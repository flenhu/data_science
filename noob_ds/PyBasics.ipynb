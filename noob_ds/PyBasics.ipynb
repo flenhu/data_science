{
 "cells": [
  {
   "cell_type": "code",
   "execution_count": 2,
   "id": "417ff409",
   "metadata": {},
   "outputs": [
    {
     "name": "stdout",
     "output_type": "stream",
     "text": [
      "Hello World\n"
     ]
    }
   ],
   "source": [
    "print(\"Hello World\")"
   ]
  },
  {
   "cell_type": "markdown",
   "id": "66d0f739",
   "metadata": {},
   "source": [
    "# Variables"
   ]
  },
  {
   "cell_type": "code",
   "execution_count": 3,
   "id": "6129a8a1",
   "metadata": {},
   "outputs": [],
   "source": [
    "x = 3"
   ]
  },
  {
   "cell_type": "code",
   "execution_count": 5,
   "id": "87ec9f4f",
   "metadata": {},
   "outputs": [
    {
     "name": "stdout",
     "output_type": "stream",
     "text": [
      "Variable   Type    Data/Info\n",
      "----------------------------\n",
      "x          int     3\n"
     ]
    }
   ],
   "source": [
    "%whos \n",
    "# tells you how many variables are in memory"
   ]
  },
  {
   "cell_type": "code",
   "execution_count": 6,
   "id": "171e9c5e",
   "metadata": {},
   "outputs": [
    {
     "name": "stdout",
     "output_type": "stream",
     "text": [
      "<class 'int'>\n"
     ]
    }
   ],
   "source": [
    "print(type(x))"
   ]
  },
  {
   "cell_type": "code",
   "execution_count": 13,
   "id": "986087c0",
   "metadata": {},
   "outputs": [],
   "source": [
    "b = 3.1415"
   ]
  },
  {
   "cell_type": "code",
   "execution_count": 14,
   "id": "b1da52f3",
   "metadata": {},
   "outputs": [
    {
     "name": "stdout",
     "output_type": "stream",
     "text": [
      "Variable   Type     Data/Info\n",
      "-----------------------------\n",
      "b          float    3.1415\n",
      "x          int      3\n"
     ]
    }
   ],
   "source": [
    "%whos"
   ]
  },
  {
   "cell_type": "code",
   "execution_count": 15,
   "id": "65d6ba70",
   "metadata": {},
   "outputs": [],
   "source": [
    "del b\n",
    "#deletes variable from memory"
   ]
  },
  {
   "cell_type": "code",
   "execution_count": 16,
   "id": "0f5c6231",
   "metadata": {},
   "outputs": [
    {
     "name": "stdout",
     "output_type": "stream",
     "text": [
      "Variable   Type    Data/Info\n",
      "----------------------------\n",
      "x          int     3\n"
     ]
    }
   ],
   "source": [
    "%whos"
   ]
  },
  {
   "cell_type": "markdown",
   "id": "39b7202c",
   "metadata": {},
   "source": [
    "# Operators"
   ]
  },
  {
   "cell_type": "code",
   "execution_count": 31,
   "id": "6262cdbe",
   "metadata": {},
   "outputs": [],
   "source": [
    "x, y = 2.1, 3.2"
   ]
  },
  {
   "cell_type": "code",
   "execution_count": 32,
   "id": "4278dede",
   "metadata": {},
   "outputs": [],
   "source": [
    "sumXY = x+y"
   ]
  },
  {
   "cell_type": "code",
   "execution_count": 33,
   "id": "b963645c",
   "metadata": {},
   "outputs": [
    {
     "name": "stdout",
     "output_type": "stream",
     "text": [
      "5.300000000000001\n"
     ]
    }
   ],
   "source": [
    "print(sumXY)"
   ]
  },
  {
   "cell_type": "code",
   "execution_count": 34,
   "id": "3d957800",
   "metadata": {},
   "outputs": [
    {
     "data": {
      "text/plain": [
       "float"
      ]
     },
     "execution_count": 34,
     "metadata": {},
     "output_type": "execute_result"
    }
   ],
   "source": [
    "type(sumXY)"
   ]
  },
  {
   "cell_type": "code",
   "execution_count": 35,
   "id": "2c0b2073",
   "metadata": {},
   "outputs": [
    {
     "data": {
      "text/plain": [
       "148.87700000000007"
      ]
     },
     "execution_count": 35,
     "metadata": {},
     "output_type": "execute_result"
    }
   ],
   "source": [
    "sumXY**3"
   ]
  },
  {
   "cell_type": "code",
   "execution_count": 36,
   "id": "a58d686f",
   "metadata": {},
   "outputs": [
    {
     "name": "stdout",
     "output_type": "stream",
     "text": [
      "helloworld\n"
     ]
    }
   ],
   "source": [
    "s1 = \"hello\"\n",
    "s2 = \"world\"\n",
    "s = s1 + s2\n",
    "print(s)"
   ]
  },
  {
   "cell_type": "code",
   "execution_count": 37,
   "id": "1d035ff5",
   "metadata": {},
   "outputs": [
    {
     "data": {
      "text/plain": [
       "3"
      ]
     },
     "execution_count": 37,
     "metadata": {},
     "output_type": "execute_result"
    }
   ],
   "source": [
    "10//3"
   ]
  },
  {
   "cell_type": "code",
   "execution_count": 38,
   "id": "e6e60b3f",
   "metadata": {},
   "outputs": [
    {
     "data": {
      "text/plain": [
       "3.3333333333333335"
      ]
     },
     "execution_count": 38,
     "metadata": {},
     "output_type": "execute_result"
    }
   ],
   "source": [
    "10/3"
   ]
  },
  {
   "cell_type": "markdown",
   "id": "74185232",
   "metadata": {},
   "source": [
    "# Bools"
   ]
  },
  {
   "cell_type": "code",
   "execution_count": 41,
   "id": "81698c4c",
   "metadata": {},
   "outputs": [],
   "source": [
    "a = True\n",
    "b = True \n",
    "c = False"
   ]
  },
  {
   "cell_type": "code",
   "execution_count": 42,
   "id": "5c86df6b",
   "metadata": {},
   "outputs": [
    {
     "name": "stdout",
     "output_type": "stream",
     "text": [
      "False\n"
     ]
    }
   ],
   "source": [
    "print(a and c)"
   ]
  },
  {
   "cell_type": "code",
   "execution_count": 43,
   "id": "468e538d",
   "metadata": {},
   "outputs": [
    {
     "data": {
      "text/plain": [
       "True"
      ]
     },
     "execution_count": 43,
     "metadata": {},
     "output_type": "execute_result"
    }
   ],
   "source": [
    "a == b"
   ]
  },
  {
   "cell_type": "code",
   "execution_count": 44,
   "id": "5bfe0071",
   "metadata": {},
   "outputs": [
    {
     "data": {
      "text/plain": [
       "True"
      ]
     },
     "execution_count": 44,
     "metadata": {},
     "output_type": "execute_result"
    }
   ],
   "source": [
    "a != c"
   ]
  },
  {
   "cell_type": "markdown",
   "id": "62f732f2",
   "metadata": {},
   "source": [
    "# Comparisons"
   ]
  },
  {
   "cell_type": "code",
   "execution_count": 45,
   "id": "fafaf241",
   "metadata": {},
   "outputs": [],
   "source": [
    "c = 2<3"
   ]
  },
  {
   "cell_type": "code",
   "execution_count": 46,
   "id": "018e36a6",
   "metadata": {},
   "outputs": [
    {
     "name": "stdout",
     "output_type": "stream",
     "text": [
      "True\n",
      "<class 'bool'>\n"
     ]
    }
   ],
   "source": [
    "print(c)\n",
    "print(type(c))"
   ]
  },
  {
   "cell_type": "code",
   "execution_count": 54,
   "id": "8a77ccea",
   "metadata": {},
   "outputs": [
    {
     "name": "stdout",
     "output_type": "stream",
     "text": [
      "3.7\n"
     ]
    }
   ],
   "source": [
    "print(round(3.73,1))"
   ]
  },
  {
   "cell_type": "markdown",
   "id": "01f393ae",
   "metadata": {},
   "source": [
    "# divmod()"
   ]
  },
  {
   "cell_type": "code",
   "execution_count": 55,
   "id": "6fc43943",
   "metadata": {},
   "outputs": [
    {
     "data": {
      "text/plain": [
       "(5, 2)"
      ]
     },
     "execution_count": 55,
     "metadata": {},
     "output_type": "execute_result"
    }
   ],
   "source": [
    "divmod(27,5)"
   ]
  },
  {
   "cell_type": "code",
   "execution_count": 57,
   "id": "fcc75890",
   "metadata": {},
   "outputs": [
    {
     "data": {
      "text/plain": [
       "(5.0, 2.3000000000000025)"
      ]
     },
     "execution_count": 57,
     "metadata": {},
     "output_type": "execute_result"
    }
   ],
   "source": [
    "divmod(27.8,5.1)"
   ]
  },
  {
   "cell_type": "markdown",
   "id": "e1e00bfe",
   "metadata": {},
   "source": [
    "# isinstance()"
   ]
  },
  {
   "cell_type": "code",
   "execution_count": 64,
   "id": "7e680ce8",
   "metadata": {},
   "outputs": [
    {
     "data": {
      "text/plain": [
       "True"
      ]
     },
     "execution_count": 64,
     "metadata": {},
     "output_type": "execute_result"
    }
   ],
   "source": [
    "isinstance(1,int)"
   ]
  },
  {
   "cell_type": "code",
   "execution_count": 65,
   "id": "a4041d16",
   "metadata": {},
   "outputs": [
    {
     "name": "stdout",
     "output_type": "stream",
     "text": [
      "False\n"
     ]
    }
   ],
   "source": [
    "print(isinstance(3.23,int))"
   ]
  },
  {
   "cell_type": "code",
   "execution_count": 66,
   "id": "90ed18f4",
   "metadata": {},
   "outputs": [
    {
     "data": {
      "text/plain": [
       "True"
      ]
     },
     "execution_count": 66,
     "metadata": {},
     "output_type": "execute_result"
    }
   ],
   "source": [
    "isinstance(2+3j,(float,str,complex))"
   ]
  },
  {
   "cell_type": "markdown",
   "id": "b97733c2",
   "metadata": {},
   "source": [
    "# input()"
   ]
  },
  {
   "cell_type": "code",
   "execution_count": 69,
   "id": "bc3b0669",
   "metadata": {},
   "outputs": [
    {
     "name": "stdout",
     "output_type": "stream",
     "text": [
      "Type something: asd\n",
      "asd\n"
     ]
    }
   ],
   "source": [
    "a = input(\"Type something: \")\n",
    "print(a)"
   ]
  },
  {
   "cell_type": "markdown",
   "id": "eb55c803",
   "metadata": {},
   "source": [
    "# Dictionary"
   ]
  },
  {
   "cell_type": "code",
   "execution_count": 2,
   "id": "0bfbdd79",
   "metadata": {},
   "outputs": [
    {
     "name": "stdout",
     "output_type": "stream",
     "text": [
      "a 10\n",
      "b -12\n",
      "c LMAO\n"
     ]
    }
   ],
   "source": [
    "D = {\"a\": 10, \"b\":-12, \"c\":\"LMAO\"}\n",
    "for key in D:\n",
    "    print(key,D[key])"
   ]
  },
  {
   "cell_type": "markdown",
   "id": "03c91252",
   "metadata": {},
   "source": [
    "# Sorting list"
   ]
  },
  {
   "cell_type": "code",
   "execution_count": 7,
   "id": "6878e13b",
   "metadata": {},
   "outputs": [
    {
     "name": "stdout",
     "output_type": "stream",
     "text": [
      "[-5, 1, 2, 2, 3, 4, 7, 9]\n"
     ]
    }
   ],
   "source": [
    "#sort a list using minimum\n",
    "L = [1,2,4,-5,7,9,3,2]\n",
    "for j in range(len(L)):\n",
    "    m = L[j]\n",
    "    idx = j\n",
    "    count = j\n",
    "    for i in range(j,len(L)):\n",
    "        if L[i]<m:\n",
    "            m = L[i]\n",
    "            idx = count\n",
    "        count+=1\n",
    "    temp = L[j]\n",
    "    L[j] = m\n",
    "    L[idx] = temp\n",
    "print(L)\n",
    "    "
   ]
  },
  {
   "cell_type": "markdown",
   "id": "135e1787",
   "metadata": {},
   "source": [
    "# Functions (Doc String)"
   ]
  },
  {
   "cell_type": "code",
   "execution_count": 8,
   "id": "095ba0ee",
   "metadata": {},
   "outputs": [],
   "source": [
    "def printSucess():\n",
    "    \"\"\" this function is useless\"\"\"\n",
    "    print(\"The task was printed\")"
   ]
  },
  {
   "cell_type": "markdown",
   "id": "68b829cb",
   "metadata": {},
   "source": [
    "# Strings"
   ]
  },
  {
   "cell_type": "code",
   "execution_count": 2,
   "id": "d2ada02c",
   "metadata": {},
   "outputs": [
    {
     "name": "stdout",
     "output_type": "stream",
     "text": [
      "this is line 1\n",
      "this is line 2 \n",
      "this is line 3\n",
      "\n"
     ]
    }
   ],
   "source": [
    "#this is how to print multiline Strings in python\n",
    "multiline = \"\"\"this is line 1\n",
    "this is line 2 \n",
    "this is line 3\n",
    "\"\"\"\n",
    "print(multiline)"
   ]
  },
  {
   "cell_type": "code",
   "execution_count": null,
   "id": "7643d736",
   "metadata": {},
   "outputs": [],
   "source": []
  }
 ],
 "metadata": {
  "kernelspec": {
   "display_name": "Python 3",
   "language": "python",
   "name": "python3"
  },
  "language_info": {
   "codemirror_mode": {
    "name": "ipython",
    "version": 3
   },
   "file_extension": ".py",
   "mimetype": "text/x-python",
   "name": "python",
   "nbconvert_exporter": "python",
   "pygments_lexer": "ipython3",
   "version": "3.8.8"
  }
 },
 "nbformat": 4,
 "nbformat_minor": 5
}
