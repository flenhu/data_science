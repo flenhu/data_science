{
 "cells": [
  {
   "cell_type": "code",
   "execution_count": 1,
   "metadata": {},
   "outputs": [],
   "source": [
    "import numpy as np"
   ]
  },
  {
   "cell_type": "code",
   "execution_count": 2,
   "metadata": {},
   "outputs": [],
   "source": [
    "a = np.array([1,2,3,5,7], dtype='i')"
   ]
  },
  {
   "cell_type": "code",
   "execution_count": 3,
   "metadata": {},
   "outputs": [],
   "source": [
    "b = np.array((2,3,5), dtype='f')"
   ]
  },
  {
   "cell_type": "code",
   "execution_count": 4,
   "metadata": {},
   "outputs": [
    {
     "name": "stdout",
     "output_type": "stream",
     "text": [
      "[1 2 3 5 7]\n"
     ]
    }
   ],
   "source": [
    "print(a)"
   ]
  },
  {
   "cell_type": "code",
   "execution_count": 5,
   "metadata": {},
   "outputs": [
    {
     "data": {
      "text/plain": [
       "numpy.ndarray"
      ]
     },
     "execution_count": 5,
     "metadata": {},
     "output_type": "execute_result"
    }
   ],
   "source": [
    "type(a)"
   ]
  },
  {
   "cell_type": "code",
   "execution_count": 6,
   "metadata": {},
   "outputs": [
    {
     "name": "stdout",
     "output_type": "stream",
     "text": [
      "[2. 3. 5.]\n"
     ]
    },
    {
     "data": {
      "text/plain": [
       "numpy.ndarray"
      ]
     },
     "execution_count": 6,
     "metadata": {},
     "output_type": "execute_result"
    }
   ],
   "source": [
    "print(b)\n",
    "type(b)"
   ]
  },
  {
   "cell_type": "code",
   "execution_count": 7,
   "metadata": {},
   "outputs": [
    {
     "data": {
      "text/plain": [
       "dtype('int32')"
      ]
     },
     "execution_count": 7,
     "metadata": {},
     "output_type": "execute_result"
    }
   ],
   "source": [
    "a.dtype"
   ]
  },
  {
   "cell_type": "code",
   "execution_count": 8,
   "metadata": {},
   "outputs": [
    {
     "data": {
      "text/plain": [
       "dtype('float32')"
      ]
     },
     "execution_count": 8,
     "metadata": {},
     "output_type": "execute_result"
    }
   ],
   "source": [
    "b.dtype"
   ]
  },
  {
   "cell_type": "markdown",
   "metadata": {},
   "source": [
    "# Numpy dimensions"
   ]
  },
  {
   "cell_type": "code",
   "execution_count": 12,
   "metadata": {},
   "outputs": [],
   "source": [
    "a = np.array([[1,2,3], [4,5,6]])"
   ]
  },
  {
   "cell_type": "code",
   "execution_count": 13,
   "metadata": {},
   "outputs": [
    {
     "data": {
      "text/plain": [
       "2"
      ]
     },
     "execution_count": 13,
     "metadata": {},
     "output_type": "execute_result"
    }
   ],
   "source": [
    "a.ndim"
   ]
  },
  {
   "cell_type": "markdown",
   "metadata": {},
   "source": [
    "ndim returns the dimensions of the numpy array"
   ]
  },
  {
   "cell_type": "code",
   "execution_count": 19,
   "metadata": {
    "scrolled": false
   },
   "outputs": [
    {
     "name": "stderr",
     "output_type": "stream",
     "text": [
      "<ipython-input-19-b92af5431460>:1: VisibleDeprecationWarning: Creating an ndarray from ragged nested sequences (which is a list-or-tuple of lists-or-tuples-or ndarrays with different lengths or shapes) is deprecated. If you meant to do this, you must specify 'dtype=object' when creating the ndarray.\n",
      "  c = np.array( [[1,2,3],[2,4,5,9]]    )\n"
     ]
    }
   ],
   "source": [
    "c = np.array( [[1,2,3],[2,4,5,9]]    )"
   ]
  },
  {
   "cell_type": "code",
   "execution_count": 20,
   "metadata": {},
   "outputs": [
    {
     "data": {
      "text/plain": [
       "1"
      ]
     },
     "execution_count": 20,
     "metadata": {},
     "output_type": "execute_result"
    }
   ],
   "source": [
    "c.ndim"
   ]
  },
  {
   "cell_type": "markdown",
   "metadata": {},
   "source": [
    "for numpy arrays, the dimension size only increases if all array sizes are the same"
   ]
  },
  {
   "cell_type": "code",
   "execution_count": 21,
   "metadata": {},
   "outputs": [],
   "source": [
    "X = np.array([[[1,2,3],[4,5,6],[0,0,-1]],[[-1,-2,-3],[-4,-5,-6],[0,0,1]]])"
   ]
  },
  {
   "cell_type": "code",
   "execution_count": 22,
   "metadata": {},
   "outputs": [
    {
     "data": {
      "text/plain": [
       "3"
      ]
     },
     "execution_count": 22,
     "metadata": {},
     "output_type": "execute_result"
    }
   ],
   "source": [
    "X.ndim"
   ]
  },
  {
   "cell_type": "code",
   "execution_count": 23,
   "metadata": {},
   "outputs": [
    {
     "data": {
      "text/plain": [
       "-3"
      ]
     },
     "execution_count": 23,
     "metadata": {},
     "output_type": "execute_result"
    }
   ],
   "source": [
    "X[1,0,2]"
   ]
  },
  {
   "cell_type": "code",
   "execution_count": 24,
   "metadata": {},
   "outputs": [
    {
     "data": {
      "text/plain": [
       "(2, 3, 3)"
      ]
     },
     "execution_count": 24,
     "metadata": {},
     "output_type": "execute_result"
    }
   ],
   "source": [
    "X.shape"
   ]
  },
  {
   "cell_type": "code",
   "execution_count": 25,
   "metadata": {},
   "outputs": [],
   "source": [
    "a = np.array([2])"
   ]
  },
  {
   "cell_type": "code",
   "execution_count": 26,
   "metadata": {},
   "outputs": [
    {
     "data": {
      "text/plain": [
       "1"
      ]
     },
     "execution_count": 26,
     "metadata": {},
     "output_type": "execute_result"
    }
   ],
   "source": [
    "a.ndim"
   ]
  },
  {
   "cell_type": "code",
   "execution_count": 27,
   "metadata": {},
   "outputs": [],
   "source": [
    "B = np.array(4)"
   ]
  },
  {
   "cell_type": "code",
   "execution_count": 28,
   "metadata": {},
   "outputs": [
    {
     "data": {
      "text/plain": [
       "0"
      ]
     },
     "execution_count": 28,
     "metadata": {},
     "output_type": "execute_result"
    }
   ],
   "source": [
    "B.ndim"
   ]
  },
  {
   "cell_type": "code",
   "execution_count": 29,
   "metadata": {},
   "outputs": [
    {
     "data": {
      "text/plain": [
       "18"
      ]
     },
     "execution_count": 29,
     "metadata": {},
     "output_type": "execute_result"
    }
   ],
   "source": [
    "X.size"
   ]
  },
  {
   "cell_type": "code",
   "execution_count": 30,
   "metadata": {},
   "outputs": [
    {
     "data": {
      "text/plain": [
       "144"
      ]
     },
     "execution_count": 30,
     "metadata": {},
     "output_type": "execute_result"
    }
   ],
   "source": [
    "X.nbytes"
   ]
  },
  {
   "cell_type": "markdown",
   "metadata": {},
   "source": [
    "# Numpy (arange, reshape, random)"
   ]
  },
  {
   "cell_type": "code",
   "execution_count": 31,
   "metadata": {},
   "outputs": [],
   "source": [
    "A = np.arange(100)"
   ]
  },
  {
   "cell_type": "code",
   "execution_count": 32,
   "metadata": {},
   "outputs": [
    {
     "name": "stdout",
     "output_type": "stream",
     "text": [
      "[ 0  1  2  3  4  5  6  7  8  9 10 11 12 13 14 15 16 17 18 19 20 21 22 23\n",
      " 24 25 26 27 28 29 30 31 32 33 34 35 36 37 38 39 40 41 42 43 44 45 46 47\n",
      " 48 49 50 51 52 53 54 55 56 57 58 59 60 61 62 63 64 65 66 67 68 69 70 71\n",
      " 72 73 74 75 76 77 78 79 80 81 82 83 84 85 86 87 88 89 90 91 92 93 94 95\n",
      " 96 97 98 99]\n"
     ]
    }
   ],
   "source": [
    "print(A)"
   ]
  },
  {
   "cell_type": "markdown",
   "metadata": {},
   "source": [
    "Last index is not included"
   ]
  },
  {
   "cell_type": "code",
   "execution_count": 33,
   "metadata": {},
   "outputs": [],
   "source": [
    "A = np.arange(20,100,3)"
   ]
  },
  {
   "cell_type": "code",
   "execution_count": 34,
   "metadata": {},
   "outputs": [
    {
     "name": "stdout",
     "output_type": "stream",
     "text": [
      "[20 23 26 29 32 35 38 41 44 47 50 53 56 59 62 65 68 71 74 77 80 83 86 89\n",
      " 92 95 98]\n"
     ]
    }
   ],
   "source": [
    "print(A)"
   ]
  },
  {
   "cell_type": "markdown",
   "metadata": {},
   "source": [
    "This is similar to the range function"
   ]
  },
  {
   "cell_type": "code",
   "execution_count": 35,
   "metadata": {},
   "outputs": [
    {
     "name": "stdout",
     "output_type": "stream",
     "text": [
      "range(0, 10)\n"
     ]
    }
   ],
   "source": [
    "print(range(10))"
   ]
  },
  {
   "cell_type": "markdown",
   "metadata": {},
   "source": [
    "### np.random.permutation"
   ]
  },
  {
   "cell_type": "code",
   "execution_count": 36,
   "metadata": {},
   "outputs": [],
   "source": [
    "import numpy as np\n",
    "A = np.random.permutation(np.arange(10))"
   ]
  },
  {
   "cell_type": "code",
   "execution_count": 37,
   "metadata": {},
   "outputs": [
    {
     "name": "stdout",
     "output_type": "stream",
     "text": [
      "[1 0 6 2 4 8 3 7 5 9]\n"
     ]
    }
   ],
   "source": [
    "print(A)"
   ]
  },
  {
   "cell_type": "code",
   "execution_count": 38,
   "metadata": {},
   "outputs": [],
   "source": [
    "v = np.random.randint(20,300)"
   ]
  },
  {
   "cell_type": "code",
   "execution_count": 39,
   "metadata": {},
   "outputs": [
    {
     "data": {
      "text/plain": [
       "277"
      ]
     },
     "execution_count": 39,
     "metadata": {},
     "output_type": "execute_result"
    }
   ],
   "source": [
    "v"
   ]
  },
  {
   "cell_type": "code",
   "execution_count": 40,
   "metadata": {},
   "outputs": [
    {
     "data": {
      "text/plain": [
       "int"
      ]
     },
     "execution_count": 40,
     "metadata": {},
     "output_type": "execute_result"
    }
   ],
   "source": [
    "type(v)"
   ]
  },
  {
   "cell_type": "code",
   "execution_count": 41,
   "metadata": {},
   "outputs": [],
   "source": [
    "A = np.random.rand(1000)"
   ]
  },
  {
   "cell_type": "code",
   "execution_count": 42,
   "metadata": {},
   "outputs": [
    {
     "data": {
      "text/plain": [
       "array([5.43669803e-01, 8.29646682e-01, 6.43519402e-01, 1.20447515e-01,\n",
       "       4.81914160e-01, 7.52345569e-01, 8.49821551e-01, 8.19936324e-01,\n",
       "       6.16186354e-02, 5.95999266e-01, 8.10147003e-01, 9.28043555e-01,\n",
       "       4.89136587e-02, 8.58796631e-01, 8.27438946e-01, 2.03579738e-01,\n",
       "       9.51276502e-01, 2.91063757e-01, 7.77151219e-01, 1.59389719e-01,\n",
       "       8.31088283e-01, 8.60570628e-01, 4.60299477e-02, 1.93983864e-01,\n",
       "       5.05064281e-01, 3.03035220e-01, 7.59610097e-01, 6.74910634e-01,\n",
       "       3.78983025e-04, 4.27337260e-01, 5.37437685e-01, 4.96621117e-01,\n",
       "       2.99771123e-01, 9.88026650e-01, 1.21457371e-01, 3.63389644e-01,\n",
       "       5.40366974e-01, 3.00607953e-02, 7.23168341e-01, 3.03726860e-01,\n",
       "       4.52250658e-01, 5.89302199e-01, 7.93949837e-01, 7.34122867e-01,\n",
       "       5.60455682e-02, 5.70620191e-01, 7.11173049e-01, 4.68983470e-01,\n",
       "       4.92546057e-01, 2.77426127e-04, 9.09723060e-01, 1.03002632e-01,\n",
       "       7.41049697e-01, 1.49485833e-02, 9.77782931e-02, 1.39112690e-02,\n",
       "       7.14546470e-01, 6.71933932e-02, 4.53188928e-01, 2.20115494e-01,\n",
       "       1.16452728e-01, 6.17485377e-01, 4.59649694e-01, 3.04117345e-01,\n",
       "       3.55842475e-01, 2.03471393e-01, 1.57361184e-01, 2.32037587e-01,\n",
       "       1.11253887e-01, 7.92480819e-01, 9.11898783e-01, 8.33175918e-01,\n",
       "       8.14069759e-01, 5.45698315e-01, 9.25436416e-01, 9.95011500e-02,\n",
       "       7.95612933e-01, 5.12938903e-01, 3.35480653e-01, 8.86784883e-01,\n",
       "       9.66311179e-02, 8.78975323e-01, 6.19104659e-01, 4.44359559e-01,\n",
       "       6.85814619e-01, 6.12570805e-02, 1.48877355e-01, 1.81168816e-01,\n",
       "       5.49274905e-01, 8.60135729e-01, 7.37769727e-01, 2.74376674e-01,\n",
       "       3.10395032e-02, 3.87785705e-01, 2.07985585e-01, 8.43347330e-01,\n",
       "       2.89546581e-01, 9.67988580e-01, 5.89232131e-01, 3.74153534e-01,\n",
       "       6.49359216e-01, 9.74418401e-01, 3.03652381e-01, 9.91853895e-01,\n",
       "       7.49591420e-01, 9.77939467e-01, 5.87395263e-02, 5.63293336e-01,\n",
       "       5.61635273e-01, 3.05809659e-01, 6.35066229e-01, 7.50077840e-01,\n",
       "       3.62933830e-01, 2.85869547e-01, 8.56339845e-01, 3.21691288e-01,\n",
       "       7.70617822e-01, 5.76660918e-01, 3.05454208e-01, 9.95413464e-01,\n",
       "       6.90135758e-01, 2.60344519e-01, 2.59568249e-01, 3.56370413e-01,\n",
       "       5.90778586e-01, 7.99973656e-01, 2.00542417e-02, 9.35634771e-01,\n",
       "       9.30071804e-01, 8.59890843e-01, 2.80501017e-01, 4.47427897e-01,\n",
       "       5.61141066e-01, 2.86660221e-02, 5.93193229e-02, 2.33640335e-02,\n",
       "       3.33302802e-01, 9.40494386e-01, 5.32485131e-01, 5.75506755e-01,\n",
       "       4.30280942e-03, 1.86784568e-01, 3.09996178e-01, 6.30396401e-01,\n",
       "       9.13512525e-01, 2.41831741e-01, 5.28199396e-01, 5.89463536e-01,\n",
       "       5.02376901e-01, 7.66063635e-02, 8.85313378e-01, 5.48380727e-01,\n",
       "       4.61038444e-01, 6.43513655e-03, 6.16800005e-01, 3.33368178e-01,\n",
       "       1.94953770e-01, 5.15147017e-01, 2.70323580e-01, 7.58789287e-02,\n",
       "       7.67380122e-01, 5.83807742e-01, 4.13253117e-01, 9.16729744e-01,\n",
       "       1.32766349e-01, 3.85491982e-01, 7.33287821e-01, 2.98271146e-02,\n",
       "       5.79173481e-01, 6.47447944e-01, 3.45129625e-01, 9.13243135e-01,\n",
       "       2.96379212e-01, 7.85387736e-01, 3.51854039e-01, 5.57345828e-01,\n",
       "       6.89674264e-01, 5.61645976e-01, 5.29666807e-01, 2.00046151e-01,\n",
       "       5.62663574e-01, 3.43392711e-01, 2.19513315e-01, 5.20307086e-01,\n",
       "       2.06550754e-01, 9.72687050e-01, 1.61699823e-01, 7.50141072e-01,\n",
       "       1.74607417e-02, 5.88836670e-01, 4.29251892e-01, 4.76571857e-02,\n",
       "       3.88184069e-01, 1.50617748e-01, 2.91660209e-01, 3.62074821e-01,\n",
       "       9.82800918e-01, 3.39161135e-01, 6.91398258e-01, 5.97532886e-02,\n",
       "       2.65354507e-01, 5.45950860e-01, 6.14748446e-01, 7.91061191e-01,\n",
       "       3.14710254e-01, 8.97638964e-01, 7.97229058e-01, 5.61401167e-02,\n",
       "       8.31858404e-01, 8.34706922e-01, 8.97468683e-01, 5.98850439e-01,\n",
       "       1.38789983e-01, 4.54720037e-02, 2.26485197e-01, 2.39406848e-01,\n",
       "       3.87174811e-01, 5.14149418e-01, 4.55832723e-01, 9.90629866e-01,\n",
       "       7.33486227e-01, 2.86386914e-01, 3.09270764e-01, 5.15729283e-01,\n",
       "       3.21736139e-01, 2.34679358e-01, 9.76625618e-01, 7.32688781e-01,\n",
       "       4.56993968e-01, 9.83416052e-01, 5.13271302e-01, 2.30114754e-01,\n",
       "       2.24640947e-01, 1.34634265e-01, 6.16504970e-01, 5.51502748e-01,\n",
       "       8.56434349e-02, 5.49269488e-01, 5.45144541e-01, 3.05267547e-01,\n",
       "       9.47281169e-01, 7.96479978e-01, 3.20761572e-01, 5.35169544e-01,\n",
       "       3.26255729e-01, 2.07129338e-01, 1.08779141e-01, 2.61912749e-01,\n",
       "       1.97848044e-01, 2.64299012e-01, 4.55268881e-01, 7.83666959e-01,\n",
       "       9.71589727e-01, 2.20182598e-01, 8.82820654e-01, 1.17954653e-01,\n",
       "       6.93912698e-02, 3.86438921e-01, 6.26958648e-01, 9.57770321e-01,\n",
       "       7.26137869e-01, 8.44734451e-01, 5.00552700e-01, 9.44107070e-02,\n",
       "       2.26847482e-02, 1.08550668e-01, 4.45251234e-01, 4.91838150e-01,\n",
       "       8.99918563e-01, 2.31007725e-02, 6.07971138e-01, 2.04918015e-01,\n",
       "       5.14690594e-01, 2.09498677e-01, 8.94781642e-01, 6.84874358e-01,\n",
       "       9.64457310e-01, 8.62273420e-01, 1.05070647e-01, 9.17299271e-01,\n",
       "       3.09414245e-01, 3.40966532e-01, 3.55391485e-01, 4.10793004e-01,\n",
       "       9.19600319e-01, 7.19128486e-01, 7.10235816e-02, 1.14353816e-01,\n",
       "       9.77184616e-01, 6.16414680e-01, 6.41786657e-01, 5.02830835e-01,\n",
       "       9.65464231e-02, 4.26559089e-01, 8.94990674e-01, 8.02521761e-01,\n",
       "       2.27347603e-01, 5.93183696e-01, 5.79149417e-01, 6.53027260e-01,\n",
       "       8.51337413e-01, 2.48902544e-01, 4.19890793e-01, 9.25956692e-01,\n",
       "       4.70129648e-01, 5.41517141e-01, 4.80905304e-01, 9.75714536e-01,\n",
       "       7.15694501e-01, 1.48844974e-01, 6.08172541e-01, 1.66325033e-02,\n",
       "       9.04328384e-02, 3.29635438e-02, 5.06866979e-01, 5.98420524e-01,\n",
       "       5.00668517e-01, 4.24387040e-01, 2.60708592e-01, 2.17963445e-01,\n",
       "       8.03163684e-01, 5.62201258e-01, 5.81784904e-01, 5.83806393e-01,\n",
       "       7.94050013e-01, 4.51661237e-01, 5.09699438e-01, 4.30387461e-01,\n",
       "       4.32506398e-01, 1.66733447e-01, 7.79690920e-01, 8.25328562e-01,\n",
       "       9.51859287e-01, 4.65494413e-01, 2.85685095e-01, 8.86236008e-01,\n",
       "       5.36645473e-01, 5.95178051e-01, 3.78347675e-01, 7.40150333e-01,\n",
       "       3.84353354e-01, 7.19643521e-01, 3.31307590e-01, 5.32246565e-01,\n",
       "       5.89408366e-01, 3.65624992e-01, 1.00337033e-01, 4.25023099e-01,\n",
       "       9.71699845e-01, 8.80731992e-01, 2.12987632e-01, 4.65488977e-01,\n",
       "       6.05947538e-01, 6.98774531e-01, 4.28412350e-01, 1.82316234e-01,\n",
       "       9.41631007e-01, 8.96873033e-01, 6.08173834e-01, 3.96825490e-01,\n",
       "       8.75078268e-01, 2.69933108e-01, 2.41441052e-01, 1.64910784e-01,\n",
       "       6.74569324e-01, 1.97373842e-01, 4.59412678e-01, 7.44398515e-01,\n",
       "       9.00613529e-01, 5.32122228e-01, 5.12449762e-01, 2.05533850e-01,\n",
       "       7.41730029e-01, 7.63720337e-01, 2.68715350e-01, 5.99234748e-01,\n",
       "       2.08816438e-01, 2.30180863e-02, 6.64427869e-01, 6.19433617e-01,\n",
       "       2.10108805e-01, 3.24061449e-01, 7.78573855e-01, 1.86417524e-01,\n",
       "       9.24356492e-01, 5.37686050e-02, 8.54560972e-01, 5.23020793e-01,\n",
       "       7.38047521e-01, 9.45770560e-01, 6.13375337e-01, 5.76393782e-01,\n",
       "       6.51655661e-01, 3.04364424e-01, 1.98096841e-01, 4.43298204e-01,\n",
       "       1.70701508e-01, 5.27915619e-01, 3.34131943e-01, 8.77435231e-01,\n",
       "       7.29194883e-01, 7.64474677e-01, 2.52686675e-02, 4.97274593e-01,\n",
       "       2.17726394e-02, 8.39709606e-01, 6.73677939e-01, 2.50042733e-03,\n",
       "       6.77368846e-01, 2.57829423e-01, 1.28411079e-01, 9.46967789e-01,\n",
       "       9.65565247e-01, 8.16826105e-01, 8.21292498e-01, 3.64871539e-01,\n",
       "       1.00050553e-01, 2.59614658e-02, 3.28848365e-01, 8.29443783e-02,\n",
       "       1.40435945e-01, 9.28734674e-01, 1.17668269e-01, 6.58674418e-01,\n",
       "       7.01780543e-01, 7.09248951e-01, 6.16570235e-01, 9.95709412e-01,\n",
       "       7.53032500e-02, 6.37182778e-01, 4.15448011e-01, 3.41451508e-01,\n",
       "       4.82197509e-01, 5.68436442e-02, 8.44889880e-01, 5.19921407e-01,\n",
       "       4.37866027e-01, 6.46792660e-01, 6.44674716e-01, 4.78554869e-01,\n",
       "       3.39506413e-01, 1.94106750e-01, 4.85016886e-01, 6.24893871e-01,\n",
       "       2.64662455e-01, 9.80688919e-01, 7.80397161e-01, 6.56327489e-01,\n",
       "       2.35114216e-01, 8.51992617e-01, 5.97199026e-01, 3.30470402e-01,\n",
       "       5.09538806e-01, 5.39586860e-01, 7.35058445e-01, 4.23531959e-01,\n",
       "       8.77127733e-01, 9.24142843e-01, 9.77807784e-01, 3.18938972e-01,\n",
       "       6.48437948e-02, 2.64376907e-01, 3.53835084e-01, 1.95603064e-01,\n",
       "       6.45034418e-01, 8.02566463e-02, 8.38640581e-01, 3.82918274e-01,\n",
       "       5.07768415e-01, 9.92291257e-01, 1.93734574e-01, 4.15258270e-01,\n",
       "       3.87799843e-01, 7.75196923e-01, 2.40821411e-01, 8.81497964e-01,\n",
       "       7.29174417e-01, 6.20192559e-01, 9.09357062e-01, 8.61124697e-01,\n",
       "       3.14374065e-01, 5.68140685e-01, 6.27804168e-01, 1.22181925e-01,\n",
       "       1.89951777e-02, 8.75075386e-01, 2.22639199e-01, 2.66665121e-01,\n",
       "       6.01719601e-02, 9.48274685e-01, 3.85164517e-01, 9.43329067e-01,\n",
       "       7.91970578e-01, 3.97714087e-01, 9.05256482e-01, 8.37587332e-01,\n",
       "       8.10936133e-01, 1.37465958e-01, 3.49370236e-01, 7.63065092e-01,\n",
       "       9.80160787e-03, 7.75727191e-01, 1.58277280e-01, 6.67955504e-01,\n",
       "       1.10646485e-01, 5.85300052e-01, 4.50263696e-01, 4.23466462e-01,\n",
       "       3.72364565e-01, 4.69351031e-01, 4.62745454e-01, 3.36232670e-01,\n",
       "       3.12269060e-01, 4.28625974e-01, 9.56222755e-01, 4.15185775e-01,\n",
       "       5.48828801e-01, 9.34677495e-01, 5.00633449e-01, 9.91153754e-01,\n",
       "       4.63086021e-01, 4.60084756e-01, 8.06067045e-01, 8.78903495e-01,\n",
       "       9.80411830e-01, 9.69303434e-01, 8.08220867e-01, 8.35731207e-01,\n",
       "       8.15180526e-01, 2.41422811e-01, 7.92041169e-01, 5.48325805e-01,\n",
       "       7.73082249e-01, 1.88601152e-01, 5.63255905e-01, 1.19953029e-01,\n",
       "       6.63417378e-01, 9.24660064e-01, 1.51172643e-01, 5.09477943e-01,\n",
       "       7.81792257e-01, 5.36766185e-01, 4.66184364e-01, 1.53084227e-02,\n",
       "       5.99622683e-01, 2.70080621e-01, 9.26734830e-01, 6.77177353e-01,\n",
       "       4.75805926e-01, 1.20781733e-01, 7.15788748e-01, 4.96321297e-01,\n",
       "       1.00111706e-01, 3.76207938e-01, 6.91602817e-01, 4.50591822e-01,\n",
       "       8.91273064e-01, 4.91206607e-01, 6.77798000e-01, 6.49186102e-01,\n",
       "       6.76830868e-02, 7.30234794e-01, 8.89005280e-01, 7.69166666e-02,\n",
       "       2.71563319e-01, 7.89059418e-01, 7.17350010e-01, 2.04221429e-01,\n",
       "       7.99368724e-01, 3.40867301e-01, 1.37318435e-01, 6.97262343e-01,\n",
       "       8.59495783e-01, 4.30476377e-01, 7.13109964e-01, 5.95843464e-01,\n",
       "       3.77799238e-01, 9.46219313e-02, 7.87045263e-01, 6.95920780e-01,\n",
       "       7.48898856e-01, 6.61479884e-01, 3.65344397e-01, 6.26910845e-01,\n",
       "       7.52340343e-01, 5.27685640e-01, 1.95807003e-03, 2.97072837e-01,\n",
       "       7.67589962e-02, 5.15783062e-01, 7.36462116e-01, 2.99051451e-01,\n",
       "       7.88476061e-01, 9.66342012e-01, 9.75273345e-01, 7.76118208e-01,\n",
       "       8.77511115e-01, 8.49002238e-01, 8.98880309e-01, 6.61726571e-01,\n",
       "       6.40918934e-02, 6.46636769e-01, 9.91835187e-01, 5.12925962e-01,\n",
       "       5.58390284e-01, 9.83181785e-01, 1.22923526e-01, 1.66139612e-01,\n",
       "       5.98374751e-01, 6.87766232e-01, 9.19193532e-01, 4.11502331e-01,\n",
       "       5.33734958e-01, 6.01795122e-01, 4.58958293e-01, 5.05780130e-01,\n",
       "       6.24332332e-01, 6.13607446e-01, 4.60605762e-01, 8.46512898e-01,\n",
       "       8.92307453e-01, 9.77276802e-01, 4.07590276e-01, 4.45864497e-01,\n",
       "       9.76334120e-01, 8.39659459e-02, 4.12347051e-01, 5.50117945e-02,\n",
       "       8.18628534e-01, 8.00831162e-01, 4.81624203e-01, 9.49982905e-01,\n",
       "       1.10379755e-01, 5.83726202e-01, 5.49863879e-01, 9.42824713e-01,\n",
       "       2.92240834e-01, 8.91025521e-01, 2.03105435e-01, 5.38798965e-01,\n",
       "       9.04721901e-01, 8.60163974e-01, 6.36309609e-01, 9.87675223e-01,\n",
       "       6.35854041e-01, 3.22304649e-01, 5.44572286e-02, 4.83536972e-02,\n",
       "       3.43788818e-01, 5.64679578e-02, 8.09109482e-01, 8.92728340e-01,\n",
       "       2.27921800e-01, 1.51897721e-01, 2.91768172e-01, 8.80956127e-01,\n",
       "       9.85323255e-01, 8.34520085e-01, 2.61746664e-01, 7.96652804e-01,\n",
       "       7.57236040e-01, 8.39006361e-01, 3.34833925e-01, 2.55445017e-01,\n",
       "       8.02383923e-01, 2.07691785e-01, 1.54397862e-01, 9.56575111e-01,\n",
       "       1.30202346e-01, 9.43502604e-01, 4.22933583e-01, 2.47740627e-01,\n",
       "       4.69841285e-01, 3.30944841e-01, 5.24708446e-01, 3.45901228e-01,\n",
       "       3.77558964e-01, 9.27744254e-01, 3.84584037e-01, 6.26076625e-01,\n",
       "       1.21468177e-02, 9.90116635e-01, 5.27933559e-01, 5.75199278e-01,\n",
       "       1.17568362e-02, 7.30707991e-02, 9.05413776e-01, 6.61265137e-01,\n",
       "       7.95424433e-01, 7.54740093e-01, 1.02424371e-01, 3.87330499e-01,\n",
       "       6.27009641e-02, 4.37728943e-01, 5.39798924e-01, 9.65320126e-01,\n",
       "       9.48097206e-01, 8.30158117e-02, 3.48883930e-02, 5.74878158e-01,\n",
       "       3.54718967e-01, 6.88909304e-01, 6.78410118e-01, 5.78519723e-01,\n",
       "       3.95129163e-01, 1.03089099e-01, 4.25523883e-01, 3.54933542e-01,\n",
       "       8.69713007e-01, 2.49913589e-01, 6.25026318e-01, 7.40347472e-01,\n",
       "       7.75082452e-01, 8.86677996e-01, 4.77152859e-02, 5.48412398e-01,\n",
       "       5.91667618e-01, 9.87657565e-01, 6.65274281e-01, 6.22957762e-01,\n",
       "       6.73632406e-01, 8.83546631e-01, 6.52582833e-01, 2.07692225e-02,\n",
       "       3.30625759e-01, 6.91469508e-01, 2.29577093e-02, 6.50237599e-01,\n",
       "       6.38196303e-01, 5.16384289e-01, 7.33246192e-01, 7.27312358e-01,\n",
       "       7.04582398e-01, 8.71614690e-01, 2.27112290e-01, 9.14493242e-01,\n",
       "       5.64357726e-01, 4.88856802e-01, 7.67573740e-01, 2.31393559e-01,\n",
       "       1.47501458e-02, 7.86442275e-01, 5.01623497e-01, 5.06257592e-02,\n",
       "       8.40696866e-01, 3.76693200e-01, 1.83435641e-01, 5.42303451e-01,\n",
       "       2.74015000e-01, 6.07836995e-01, 9.59022501e-01, 9.86527846e-01,\n",
       "       3.13320589e-01, 6.92840381e-01, 3.81084044e-01, 4.86632977e-01,\n",
       "       1.25844706e-01, 4.41850741e-01, 1.63024547e-01, 7.50113722e-01,\n",
       "       3.82665907e-01, 7.84704863e-01, 2.81615921e-01, 7.03355310e-01,\n",
       "       8.08340062e-01, 1.23778437e-01, 8.52624161e-01, 6.66991707e-01,\n",
       "       2.08523428e-01, 5.96854014e-01, 2.11164006e-01, 5.11690311e-01,\n",
       "       1.50890678e-01, 7.29062288e-01, 3.55365282e-01, 8.07936803e-01,\n",
       "       1.39717201e-02, 8.73696105e-01, 1.00266528e-01, 5.80143884e-01,\n",
       "       4.23733281e-01, 5.31518771e-01, 7.99518089e-01, 9.41570134e-01,\n",
       "       9.53133716e-01, 6.78573889e-01, 2.64650215e-01, 8.06583269e-01,\n",
       "       4.31182826e-01, 9.83968231e-02, 5.76970755e-01, 3.52441439e-01,\n",
       "       5.97318079e-01, 6.67412019e-01, 4.04706066e-01, 4.06214955e-01,\n",
       "       6.55981217e-01, 6.71763198e-01, 6.72532125e-01, 2.68695832e-01,\n",
       "       8.15515022e-01, 9.40848371e-02, 3.10520696e-01, 9.30387659e-01,\n",
       "       3.97026188e-01, 1.04541078e-01, 4.21800237e-01, 4.70269361e-01,\n",
       "       3.69332234e-01, 5.92870126e-01, 6.55204203e-01, 5.75956717e-01,\n",
       "       5.92584915e-01, 9.59765923e-01, 5.45430784e-01, 6.78350365e-01,\n",
       "       9.19543648e-01, 4.48549721e-01, 1.05796587e-02, 7.98434370e-01,\n",
       "       9.04792272e-01, 7.97776525e-01, 3.45107373e-01, 2.36174808e-01,\n",
       "       5.36160371e-02, 8.36780946e-01, 4.26822569e-01, 8.92609678e-01,\n",
       "       1.56776079e-01, 9.02213720e-01, 1.45628876e-01, 3.92115928e-01,\n",
       "       8.15479776e-01, 7.24811219e-01, 7.95430618e-01, 1.48106444e-01,\n",
       "       2.17160383e-01, 9.81145964e-01, 8.52669397e-02, 1.08322355e-01,\n",
       "       6.37117682e-01, 9.33356175e-01, 7.76943192e-01, 4.05657693e-01,\n",
       "       8.58280732e-01, 2.26963209e-01, 9.77892555e-01, 1.45720712e-01,\n",
       "       4.08451401e-01, 6.74041054e-01, 7.56688795e-01, 7.85388469e-01,\n",
       "       2.42153837e-01, 8.01498696e-01, 5.73085967e-01, 9.62493388e-01,\n",
       "       2.57967436e-01, 3.83693605e-01, 4.64201180e-01, 1.75738185e-03,\n",
       "       5.02029548e-02, 8.78379945e-01, 9.02717070e-01, 4.88789068e-01,\n",
       "       8.32389287e-01, 4.22893322e-01, 9.18039099e-01, 4.01838492e-01,\n",
       "       7.21919008e-01, 2.89005233e-01, 2.36603740e-01, 2.76693662e-01,\n",
       "       9.72476186e-01, 1.03227581e-01, 8.11200742e-01, 2.37149863e-01,\n",
       "       3.18208096e-01, 3.46119576e-01, 7.89967867e-01, 1.62398324e-01,\n",
       "       4.34627107e-01, 3.80223338e-01, 2.11333707e-01, 4.50521254e-01,\n",
       "       6.02453702e-01, 3.16482707e-01, 8.92234072e-01, 7.94144138e-01,\n",
       "       8.11400007e-01, 6.37801190e-01, 2.49195455e-01, 6.01976124e-01,\n",
       "       2.28439119e-01, 1.33898188e-01, 1.91732192e-01, 8.11720369e-01,\n",
       "       6.25821705e-01, 4.21824735e-01, 9.71575008e-01, 5.27432103e-01,\n",
       "       6.47453325e-01, 2.18564188e-01, 9.54656015e-01, 1.07720038e-01,\n",
       "       6.62159820e-01, 6.52990261e-02, 1.15345427e-01, 9.01406218e-01,\n",
       "       3.62535186e-01, 5.13866489e-01, 7.69161534e-01, 8.32797323e-01,\n",
       "       7.38970332e-01, 8.46427095e-01, 2.84746795e-01, 8.71229348e-01,\n",
       "       6.17959894e-01, 4.28385712e-01, 6.40281051e-01, 8.24101078e-01,\n",
       "       5.73807365e-01, 2.50011434e-01, 7.25071262e-01, 2.62520521e-01,\n",
       "       3.24058813e-01, 4.45901521e-01, 3.41729671e-01, 2.49909414e-02,\n",
       "       8.73167231e-01, 4.72351447e-02, 8.11838112e-01, 7.87249155e-01,\n",
       "       9.01078453e-01, 5.80968384e-01, 3.21956033e-01, 8.65431372e-01,\n",
       "       1.99841017e-01, 3.13638113e-01, 1.14903782e-01, 1.85463790e-01,\n",
       "       2.39083636e-01, 7.98188810e-01, 6.34397257e-01, 4.30666248e-01,\n",
       "       7.38101308e-01, 1.28828072e-01, 3.66525570e-01, 8.98595671e-01,\n",
       "       2.74543229e-01, 4.29445390e-01, 5.12324463e-01, 6.17422982e-01,\n",
       "       6.95777837e-01, 3.59626086e-01, 8.71732706e-01, 9.36089161e-01,\n",
       "       6.87551657e-01, 5.79805606e-01, 1.21800312e-01, 6.20321659e-01,\n",
       "       5.39235627e-01, 6.82539497e-01, 4.77272560e-01, 6.79513170e-01,\n",
       "       9.27814248e-02, 6.25272310e-01, 8.22878707e-01, 9.13468545e-01,\n",
       "       5.07898497e-01, 7.36191933e-01, 6.29682758e-01, 9.34454541e-01,\n",
       "       5.70219175e-01, 7.87777162e-01, 1.26343716e-01, 8.86306388e-01,\n",
       "       1.15870138e-01, 6.10514510e-01, 8.36537646e-01, 5.69974295e-01,\n",
       "       2.22976773e-01, 5.04457065e-01, 5.79034739e-01, 2.17870163e-01,\n",
       "       2.97080178e-01, 7.74385450e-01, 6.77784798e-01, 9.23224019e-01,\n",
       "       9.83267682e-01, 4.27081383e-02, 6.77364055e-01, 6.79685776e-01,\n",
       "       2.38940156e-01, 7.40466593e-01, 3.47047715e-02, 7.42320733e-01,\n",
       "       7.26637774e-01, 1.71680212e-01, 6.19322102e-01, 8.91511200e-01])"
      ]
     },
     "execution_count": 42,
     "metadata": {},
     "output_type": "execute_result"
    }
   ],
   "source": [
    "A"
   ]
  },
  {
   "cell_type": "code",
   "execution_count": 43,
   "metadata": {},
   "outputs": [],
   "source": [
    "import matplotlib.pyplot as plt"
   ]
  },
  {
   "cell_type": "code",
   "execution_count": 44,
   "metadata": {},
   "outputs": [
    {
     "data": {
      "text/plain": [
       "(array([ 8., 12., 13.,  4.,  8., 13., 10.,  7.,  6., 10., 14., 10., 12.,\n",
       "         7.,  6.,  9.,  6.,  2.,  7.,  9., 14.,  9., 12., 10.,  8.,  6.,\n",
       "        14.,  8.,  6.,  9., 10., 11.,  9., 11., 12., 10.,  9.,  8., 15.,\n",
       "         5.,  5.,  8., 14., 13.,  7., 10., 12.,  7.,  7.,  8., 12., 16.,\n",
       "         6., 13., 12.,  9.,  9., 13., 12., 16.,  9., 13., 16.,  9.,  9.,\n",
       "        11.,  9.,  9., 13., 11.,  5.,  6.,  9., 13., 11.,  9.,  5., 10.,\n",
       "        11., 17., 14., 15.,  7., 10., 10.,  9., 10.,  8., 12., 14., 15.,\n",
       "         7., 12., 10.,  8.,  9.,  9., 11., 15., 12.]),\n",
       " array([2.77426127e-04, 1.02317460e-02, 2.01860659e-02, 3.01403857e-02,\n",
       "        4.00947056e-02, 5.00490254e-02, 6.00033453e-02, 6.99576652e-02,\n",
       "        7.99119850e-02, 8.98663049e-02, 9.98206247e-02, 1.09774945e-01,\n",
       "        1.19729264e-01, 1.29683584e-01, 1.39637904e-01, 1.49592224e-01,\n",
       "        1.59546544e-01, 1.69500864e-01, 1.79455184e-01, 1.89409504e-01,\n",
       "        1.99363823e-01, 2.09318143e-01, 2.19272463e-01, 2.29226783e-01,\n",
       "        2.39181103e-01, 2.49135423e-01, 2.59089743e-01, 2.69044062e-01,\n",
       "        2.78998382e-01, 2.88952702e-01, 2.98907022e-01, 3.08861342e-01,\n",
       "        3.18815662e-01, 3.28769982e-01, 3.38724301e-01, 3.48678621e-01,\n",
       "        3.58632941e-01, 3.68587261e-01, 3.78541581e-01, 3.88495901e-01,\n",
       "        3.98450221e-01, 4.08404540e-01, 4.18358860e-01, 4.28313180e-01,\n",
       "        4.38267500e-01, 4.48221820e-01, 4.58176140e-01, 4.68130460e-01,\n",
       "        4.78084780e-01, 4.88039099e-01, 4.97993419e-01, 5.07947739e-01,\n",
       "        5.17902059e-01, 5.27856379e-01, 5.37810699e-01, 5.47765019e-01,\n",
       "        5.57719338e-01, 5.67673658e-01, 5.77627978e-01, 5.87582298e-01,\n",
       "        5.97536618e-01, 6.07490938e-01, 6.17445258e-01, 6.27399577e-01,\n",
       "        6.37353897e-01, 6.47308217e-01, 6.57262537e-01, 6.67216857e-01,\n",
       "        6.77171177e-01, 6.87125497e-01, 6.97079816e-01, 7.07034136e-01,\n",
       "        7.16988456e-01, 7.26942776e-01, 7.36897096e-01, 7.46851416e-01,\n",
       "        7.56805736e-01, 7.66760056e-01, 7.76714375e-01, 7.86668695e-01,\n",
       "        7.96623015e-01, 8.06577335e-01, 8.16531655e-01, 8.26485975e-01,\n",
       "        8.36440295e-01, 8.46394614e-01, 8.56348934e-01, 8.66303254e-01,\n",
       "        8.76257574e-01, 8.86211894e-01, 8.96166214e-01, 9.06120534e-01,\n",
       "        9.16074853e-01, 9.26029173e-01, 9.35983493e-01, 9.45937813e-01,\n",
       "        9.55892133e-01, 9.65846453e-01, 9.75800773e-01, 9.85755092e-01,\n",
       "        9.95709412e-01]),\n",
       " <BarContainer object of 100 artists>)"
      ]
     },
     "execution_count": 44,
     "metadata": {},
     "output_type": "execute_result"
    },
    {
     "data": {
      "image/png": "[encoded data removed]",
      "text/plain": [
       "<Figure size 432x288 with 1 Axes>"
      ]
     },
     "metadata": {
      "needs_background": "light"
     },
     "output_type": "display_data"
    }
   ],
   "source": [
    "plt.hist(A, bins=100)"
   ]
  },
  {
   "cell_type": "code",
   "execution_count": 45,
   "metadata": {},
   "outputs": [
    {
     "data": {
      "text/plain": [
       "(array([1.000e+00, 0.000e+00, 0.000e+00, 0.000e+00, 0.000e+00, 0.000e+00,\n",
       "        0.000e+00, 0.000e+00, 1.000e+00, 0.000e+00, 0.000e+00, 0.000e+00,\n",
       "        0.000e+00, 0.000e+00, 1.000e+00, 1.000e+00, 2.000e+00, 1.000e+00,\n",
       "        0.000e+00, 1.000e+00, 3.000e+00, 4.000e+00, 4.000e+00, 3.000e+00,\n",
       "        5.000e+00, 8.000e+00, 6.000e+00, 6.000e+00, 8.000e+00, 8.000e+00,\n",
       "        6.000e+00, 1.200e+01, 8.000e+00, 1.800e+01, 1.300e+01, 1.700e+01,\n",
       "        1.600e+01, 2.100e+01, 2.700e+01, 3.300e+01, 3.500e+01, 2.600e+01,\n",
       "        5.000e+01, 3.600e+01, 5.600e+01, 7.500e+01, 7.000e+01, 7.600e+01,\n",
       "        8.900e+01, 9.300e+01, 9.400e+01, 1.230e+02, 1.590e+02, 1.430e+02,\n",
       "        1.600e+02, 1.720e+02, 1.680e+02, 2.130e+02, 2.160e+02, 2.670e+02,\n",
       "        2.550e+02, 3.380e+02, 3.090e+02, 3.710e+02, 4.030e+02, 3.900e+02,\n",
       "        4.290e+02, 5.050e+02, 5.150e+02, 5.580e+02, 6.160e+02, 6.330e+02,\n",
       "        6.710e+02, 6.940e+02, 7.600e+02, 7.960e+02, 8.500e+02, 9.010e+02,\n",
       "        9.410e+02, 9.320e+02, 1.024e+03, 1.124e+03, 1.127e+03, 1.246e+03,\n",
       "        1.262e+03, 1.281e+03, 1.265e+03, 1.348e+03, 1.335e+03, 1.426e+03,\n",
       "        1.497e+03, 1.528e+03, 1.531e+03, 1.536e+03, 1.610e+03, 1.648e+03,\n",
       "        1.547e+03, 1.618e+03, 1.685e+03, 1.668e+03, 1.753e+03, 1.729e+03,\n",
       "        1.681e+03, 1.752e+03, 1.849e+03, 1.720e+03, 1.732e+03, 1.730e+03,\n",
       "        1.780e+03, 1.727e+03, 1.646e+03, 1.698e+03, 1.658e+03, 1.570e+03,\n",
       "        1.545e+03, 1.523e+03, 1.476e+03, 1.391e+03, 1.500e+03, 1.333e+03,\n",
       "        1.371e+03, 1.327e+03, 1.266e+03, 1.203e+03, 1.230e+03, 1.179e+03,\n",
       "        1.123e+03, 9.740e+02, 9.790e+02, 1.020e+03, 8.600e+02, 8.460e+02,\n",
       "        7.750e+02, 7.410e+02, 7.130e+02, 6.890e+02, 6.270e+02, 6.280e+02,\n",
       "        5.460e+02, 5.320e+02, 4.710e+02, 4.520e+02, 4.490e+02, 3.970e+02,\n",
       "        3.530e+02, 3.590e+02, 2.950e+02, 2.900e+02, 3.000e+02, 2.460e+02,\n",
       "        2.430e+02, 2.050e+02, 1.830e+02, 1.590e+02, 1.450e+02, 1.370e+02,\n",
       "        1.050e+02, 1.330e+02, 1.000e+02, 1.070e+02, 9.900e+01, 7.900e+01,\n",
       "        6.300e+01, 6.500e+01, 3.800e+01, 5.300e+01, 3.500e+01, 3.700e+01,\n",
       "        4.300e+01, 2.200e+01, 2.500e+01, 2.700e+01, 1.700e+01, 2.100e+01,\n",
       "        1.100e+01, 1.400e+01, 1.000e+01, 9.000e+00, 9.000e+00, 4.000e+00,\n",
       "        6.000e+00, 9.000e+00, 4.000e+00, 2.000e+00, 3.000e+00, 2.000e+00,\n",
       "        1.000e+00, 3.000e+00, 1.000e+00, 1.000e+00, 2.000e+00, 1.000e+00,\n",
       "        1.000e+00, 2.000e+00, 0.000e+00, 0.000e+00, 0.000e+00, 0.000e+00,\n",
       "        1.000e+00, 1.000e+00]),\n",
       " array([-4.56340105, -4.51958327, -4.47576549, -4.43194771, -4.38812994,\n",
       "        -4.34431216, -4.30049438, -4.25667661, -4.21285883, -4.16904105,\n",
       "        -4.12522327, -4.0814055 , -4.03758772, -3.99376994, -3.94995217,\n",
       "        -3.90613439, -3.86231661, -3.81849883, -3.77468106, -3.73086328,\n",
       "        -3.6870455 , -3.64322773, -3.59940995, -3.55559217, -3.51177439,\n",
       "        -3.46795662, -3.42413884, -3.38032106, -3.33650329, -3.29268551,\n",
       "        -3.24886773, -3.20504995, -3.16123218, -3.1174144 , -3.07359662,\n",
       "        -3.02977885, -2.98596107, -2.94214329, -2.89832551, -2.85450774,\n",
       "        -2.81068996, -2.76687218, -2.72305441, -2.67923663, -2.63541885,\n",
       "        -2.59160107, -2.5477833 , -2.50396552, -2.46014774, -2.41632997,\n",
       "        -2.37251219, -2.32869441, -2.28487663, -2.24105886, -2.19724108,\n",
       "        -2.1534233 , -2.10960553, -2.06578775, -2.02196997, -1.97815219,\n",
       "        -1.93433442, -1.89051664, -1.84669886, -1.80288109, -1.75906331,\n",
       "        -1.71524553, -1.67142775, -1.62760998, -1.5837922 , -1.53997442,\n",
       "        -1.49615665, -1.45233887, -1.40852109, -1.36470331, -1.32088554,\n",
       "        -1.27706776, -1.23324998, -1.18943221, -1.14561443, -1.10179665,\n",
       "        -1.05797887, -1.0141611 , -0.97034332, -0.92652554, -0.88270777,\n",
       "        -0.83888999, -0.79507221, -0.75125443, -0.70743666, -0.66361888,\n",
       "        -0.6198011 , -0.57598333, -0.53216555, -0.48834777, -0.44452999,\n",
       "        -0.40071222, -0.35689444, -0.31307666, -0.26925889, -0.22544111,\n",
       "        -0.18162333, -0.13780555, -0.09398778, -0.05017   , -0.00635222,\n",
       "         0.03746555,  0.08128333,  0.12510111,  0.16891889,  0.21273666,\n",
       "         0.25655444,  0.30037222,  0.34418999,  0.38800777,  0.43182555,\n",
       "         0.47564333,  0.5194611 ,  0.56327888,  0.60709666,  0.65091443,\n",
       "         0.69473221,  0.73854999,  0.78236777,  0.82618554,  0.87000332,\n",
       "         0.9138211 ,  0.95763887,  1.00145665,  1.04527443,  1.08909221,\n",
       "         1.13290998,  1.17672776,  1.22054554,  1.26436331,  1.30818109,\n",
       "         1.35199887,  1.39581665,  1.43963442,  1.4834522 ,  1.52726998,\n",
       "         1.57108776,  1.61490553,  1.65872331,  1.70254109,  1.74635886,\n",
       "         1.79017664,  1.83399442,  1.8778122 ,  1.92162997,  1.96544775,\n",
       "         2.00926553,  2.0530833 ,  2.09690108,  2.14071886,  2.18453664,\n",
       "         2.22835441,  2.27217219,  2.31598997,  2.35980774,  2.40362552,\n",
       "         2.4474433 ,  2.49126108,  2.53507885,  2.57889663,  2.62271441,\n",
       "         2.66653218,  2.71034996,  2.75416774,  2.79798552,  2.84180329,\n",
       "         2.88562107,  2.92943885,  2.97325662,  3.0170744 ,  3.06089218,\n",
       "         3.10470996,  3.14852773,  3.19234551,  3.23616329,  3.27998106,\n",
       "         3.32379884,  3.36761662,  3.4114344 ,  3.45525217,  3.49906995,\n",
       "         3.54288773,  3.5867055 ,  3.63052328,  3.67434106,  3.71815884,\n",
       "         3.76197661,  3.80579439,  3.84961217,  3.89342994,  3.93724772,\n",
       "         3.9810655 ,  4.02488328,  4.06870105,  4.11251883,  4.15633661,\n",
       "         4.20015438]),\n",
       " <BarContainer object of 200 artists>)"
      ]
     },
     "execution_count": 45,
     "metadata": {},
     "output_type": "execute_result"
    },
    {
     "data": {
      "image/png": "[encoded data removed]",
      "text/plain": [
       "<Figure size 432x288 with 1 Axes>"
      ]
     },
     "metadata": {
      "needs_background": "light"
     },
     "output_type": "display_data"
    }
   ],
   "source": [
    "B = np.random.randn(100000)\n",
    "plt.hist(B, bins=200)"
   ]
  },
  {
   "cell_type": "code",
   "execution_count": 46,
   "metadata": {},
   "outputs": [],
   "source": [
    "C = np.random.rand(2,3)"
   ]
  },
  {
   "cell_type": "code",
   "execution_count": 47,
   "metadata": {},
   "outputs": [
    {
     "data": {
      "text/plain": [
       "array([[0.8721647 , 0.39262446, 0.37818256],\n",
       "       [0.32445302, 0.60782668, 0.81677854]])"
      ]
     },
     "execution_count": 47,
     "metadata": {},
     "output_type": "execute_result"
    }
   ],
   "source": [
    "C"
   ]
  },
  {
   "cell_type": "code",
   "execution_count": 48,
   "metadata": {},
   "outputs": [
    {
     "data": {
      "text/plain": [
       "2"
      ]
     },
     "execution_count": 48,
     "metadata": {},
     "output_type": "execute_result"
    }
   ],
   "source": [
    "C.ndim"
   ]
  },
  {
   "cell_type": "code",
   "execution_count": 49,
   "metadata": {},
   "outputs": [],
   "source": [
    "C = np.random.rand(2,3,4,2)"
   ]
  },
  {
   "cell_type": "code",
   "execution_count": 50,
   "metadata": {},
   "outputs": [
    {
     "data": {
      "text/plain": [
       "4"
      ]
     },
     "execution_count": 50,
     "metadata": {},
     "output_type": "execute_result"
    }
   ],
   "source": [
    "C.ndim"
   ]
  },
  {
   "cell_type": "code",
   "execution_count": 51,
   "metadata": {},
   "outputs": [
    {
     "name": "stdout",
     "output_type": "stream",
     "text": [
      "[[[[0.21733122 0.74328394]\n",
      "   [0.01752855 0.92105775]\n",
      "   [0.45971917 0.71664052]\n",
      "   [0.66670207 0.96144481]]\n",
      "\n",
      "  [[0.08810646 0.25629091]\n",
      "   [0.40076758 0.47204498]\n",
      "   [0.53681541 0.22589582]\n",
      "   [0.45384753 0.10196086]]\n",
      "\n",
      "  [[0.5805431  0.01168798]\n",
      "   [0.74468239 0.2142328 ]\n",
      "   [0.14021827 0.09463182]\n",
      "   [0.74325523 0.05264048]]]\n",
      "\n",
      "\n",
      " [[[0.78484437 0.73240577]\n",
      "   [0.6094687  0.80871977]\n",
      "   [0.1664673  0.84824049]\n",
      "   [0.30979209 0.93279172]]\n",
      "\n",
      "  [[0.91116534 0.32475592]\n",
      "   [0.24846966 0.15006659]\n",
      "   [0.10003703 0.573324  ]\n",
      "   [0.59860293 0.14856901]]\n",
      "\n",
      "  [[0.38920441 0.27886198]\n",
      "   [0.63409953 0.45415778]\n",
      "   [0.20196355 0.83230377]\n",
      "   [0.71601429 0.81946257]]]]\n"
     ]
    }
   ],
   "source": [
    "print(C)"
   ]
  },
  {
   "cell_type": "code",
   "execution_count": 52,
   "metadata": {},
   "outputs": [],
   "source": [
    "D = np.arange(100).reshape(4,25)"
   ]
  },
  {
   "cell_type": "code",
   "execution_count": 53,
   "metadata": {},
   "outputs": [
    {
     "data": {
      "text/plain": [
       "(4, 25)"
      ]
     },
     "execution_count": 53,
     "metadata": {},
     "output_type": "execute_result"
    }
   ],
   "source": [
    "D.shape"
   ]
  },
  {
   "cell_type": "code",
   "execution_count": 54,
   "metadata": {},
   "outputs": [
    {
     "name": "stdout",
     "output_type": "stream",
     "text": [
      "[[ 0  1  2  3  4  5  6  7  8  9 10 11 12 13 14 15 16 17 18 19 20 21 22 23\n",
      "  24]\n",
      " [25 26 27 28 29 30 31 32 33 34 35 36 37 38 39 40 41 42 43 44 45 46 47 48\n",
      "  49]\n",
      " [50 51 52 53 54 55 56 57 58 59 60 61 62 63 64 65 66 67 68 69 70 71 72 73\n",
      "  74]\n",
      " [75 76 77 78 79 80 81 82 83 84 85 86 87 88 89 90 91 92 93 94 95 96 97 98\n",
      "  99]]\n"
     ]
    }
   ],
   "source": [
    "print(D)"
   ]
  },
  {
   "cell_type": "code",
   "execution_count": 55,
   "metadata": {},
   "outputs": [],
   "source": [
    "D = np.arange(100).reshape(4,5,5)"
   ]
  },
  {
   "cell_type": "code",
   "execution_count": 56,
   "metadata": {},
   "outputs": [
    {
     "data": {
      "text/plain": [
       "(4, 5, 5)"
      ]
     },
     "execution_count": 56,
     "metadata": {},
     "output_type": "execute_result"
    }
   ],
   "source": [
    "D.shape"
   ]
  },
  {
   "cell_type": "markdown",
   "metadata": {},
   "source": [
    "# Numpy Slicing"
   ]
  },
  {
   "cell_type": "markdown",
   "metadata": {},
   "source": [
    "if you make an object pointing that references another object, altering the new object will also change the orginal object"
   ]
  },
  {
   "cell_type": "code",
   "execution_count": 57,
   "metadata": {},
   "outputs": [],
   "source": [
    "A = np.arange(100)"
   ]
  },
  {
   "cell_type": "code",
   "execution_count": 58,
   "metadata": {},
   "outputs": [],
   "source": [
    "b = A[3:10]"
   ]
  },
  {
   "cell_type": "code",
   "execution_count": 59,
   "metadata": {},
   "outputs": [
    {
     "data": {
      "text/plain": [
       "array([3, 4, 5, 6, 7, 8, 9])"
      ]
     },
     "execution_count": 59,
     "metadata": {},
     "output_type": "execute_result"
    }
   ],
   "source": [
    "b"
   ]
  },
  {
   "cell_type": "code",
   "execution_count": 60,
   "metadata": {},
   "outputs": [],
   "source": [
    "b[0] = -1200"
   ]
  },
  {
   "cell_type": "code",
   "execution_count": 61,
   "metadata": {},
   "outputs": [
    {
     "data": {
      "text/plain": [
       "array([    0,     1,     2, -1200,     4,     5,     6,     7,     8,\n",
       "           9,    10,    11,    12,    13,    14,    15,    16,    17,\n",
       "          18,    19,    20,    21,    22,    23,    24,    25,    26,\n",
       "          27,    28,    29,    30,    31,    32,    33,    34,    35,\n",
       "          36,    37,    38,    39,    40,    41,    42,    43,    44,\n",
       "          45,    46,    47,    48,    49,    50,    51,    52,    53,\n",
       "          54,    55,    56,    57,    58,    59,    60,    61,    62,\n",
       "          63,    64,    65,    66,    67,    68,    69,    70,    71,\n",
       "          72,    73,    74,    75,    76,    77,    78,    79,    80,\n",
       "          81,    82,    83,    84,    85,    86,    87,    88,    89,\n",
       "          90,    91,    92,    93,    94,    95,    96,    97,    98,\n",
       "          99])"
      ]
     },
     "execution_count": 61,
     "metadata": {},
     "output_type": "execute_result"
    }
   ],
   "source": [
    "A"
   ]
  },
  {
   "cell_type": "code",
   "execution_count": 62,
   "metadata": {},
   "outputs": [],
   "source": [
    "b = A[3:10].copy()"
   ]
  },
  {
   "cell_type": "markdown",
   "metadata": {},
   "source": [
    "Using **.copy()** creates new memory for the new object and does not reference the old object"
   ]
  },
  {
   "cell_type": "code",
   "execution_count": 63,
   "metadata": {},
   "outputs": [
    {
     "data": {
      "text/plain": [
       "array([ 0,  5, 10, 15, 20, 25, 30, 35, 40, 45, 50, 55, 60, 65, 70, 75, 80,\n",
       "       85, 90, 95])"
      ]
     },
     "execution_count": 63,
     "metadata": {},
     "output_type": "execute_result"
    }
   ],
   "source": [
    "A[::5]"
   ]
  },
  {
   "cell_type": "code",
   "execution_count": 64,
   "metadata": {},
   "outputs": [
    {
     "data": {
      "text/plain": [
       "array([99, 94, 89, 84, 79, 74, 69, 64, 59, 54, 49, 44, 39, 34, 29, 24, 19,\n",
       "       14,  9,  4])"
      ]
     },
     "execution_count": 64,
     "metadata": {},
     "output_type": "execute_result"
    }
   ],
   "source": [
    "A[::-5]"
   ]
  },
  {
   "cell_type": "code",
   "execution_count": 65,
   "metadata": {},
   "outputs": [
    {
     "data": {
      "text/plain": [
       "array([   99,    98,    97,    96,    95,    94,    93,    92,    91,\n",
       "          90,    89,    88,    87,    86,    85,    84,    83,    82,\n",
       "          81,    80,    79,    78,    77,    76,    75,    74,    73,\n",
       "          72,    71,    70,    69,    68,    67,    66,    65,    64,\n",
       "          63,    62,    61,    60,    59,    58,    57,    56,    55,\n",
       "          54,    53,    52,    51,    50,    49,    48,    47,    46,\n",
       "          45,    44,    43,    42,    41,    40,    39,    38,    37,\n",
       "          36,    35,    34,    33,    32,    31,    30,    29,    28,\n",
       "          27,    26,    25,    24,    23,    22,    21,    20,    19,\n",
       "          18,    17,    16,    15,    14,    13,    12,    11,    10,\n",
       "           9,     8,     7,     6,     5,     4, -1200,     2,     1,\n",
       "           0])"
      ]
     },
     "execution_count": 65,
     "metadata": {},
     "output_type": "execute_result"
    }
   ],
   "source": [
    "A[::-1] #this reverses the array"
   ]
  },
  {
   "cell_type": "code",
   "execution_count": 66,
   "metadata": {},
   "outputs": [
    {
     "data": {
      "text/plain": [
       "3"
      ]
     },
     "execution_count": 66,
     "metadata": {},
     "output_type": "execute_result"
    }
   ],
   "source": [
    "#locating the -1200 element\n",
    "idx = np.argwhere(A==-1200)[0][0]\n",
    "idx"
   ]
  },
  {
   "cell_type": "code",
   "execution_count": 67,
   "metadata": {},
   "outputs": [],
   "source": [
    "A[idx] = 3"
   ]
  },
  {
   "cell_type": "code",
   "execution_count": 68,
   "metadata": {},
   "outputs": [
    {
     "data": {
      "text/plain": [
       "array([ 0,  1,  2,  3,  4,  5,  6,  7,  8,  9, 10, 11, 12, 13, 14, 15, 16,\n",
       "       17, 18, 19, 20, 21, 22, 23, 24, 25, 26, 27, 28, 29, 30, 31, 32, 33,\n",
       "       34, 35, 36, 37, 38, 39, 40, 41, 42, 43, 44, 45, 46, 47, 48, 49, 50,\n",
       "       51, 52, 53, 54, 55, 56, 57, 58, 59, 60, 61, 62, 63, 64, 65, 66, 67,\n",
       "       68, 69, 70, 71, 72, 73, 74, 75, 76, 77, 78, 79, 80, 81, 82, 83, 84,\n",
       "       85, 86, 87, 88, 89, 90, 91, 92, 93, 94, 95, 96, 97, 98, 99])"
      ]
     },
     "execution_count": 68,
     "metadata": {},
     "output_type": "execute_result"
    }
   ],
   "source": [
    "A"
   ]
  },
  {
   "cell_type": "code",
   "execution_count": 70,
   "metadata": {},
   "outputs": [],
   "source": [
    "#two dimensional indices\n",
    "A = np.round(10*np.random.rand(5,4))"
   ]
  },
  {
   "cell_type": "code",
   "execution_count": 71,
   "metadata": {},
   "outputs": [
    {
     "data": {
      "text/plain": [
       "array([[ 4.,  3.,  4.,  7.],\n",
       "       [ 9., 10.,  7.,  0.],\n",
       "       [ 0.,  6.,  3.,  0.],\n",
       "       [10.,  2.,  7.,  6.],\n",
       "       [ 3.,  7.,  7.,  7.]])"
      ]
     },
     "execution_count": 71,
     "metadata": {},
     "output_type": "execute_result"
    }
   ],
   "source": [
    "A"
   ]
  },
  {
   "cell_type": "code",
   "execution_count": 72,
   "metadata": {},
   "outputs": [
    {
     "data": {
      "text/plain": [
       "7.0"
      ]
     },
     "execution_count": 72,
     "metadata": {},
     "output_type": "execute_result"
    }
   ],
   "source": [
    "#accessing 2nd row 3 column\n",
    "A[1,2]"
   ]
  },
  {
   "cell_type": "code",
   "execution_count": 74,
   "metadata": {},
   "outputs": [
    {
     "data": {
      "text/plain": [
       "array([ 9., 10.,  7.,  0.])"
      ]
     },
     "execution_count": 74,
     "metadata": {},
     "output_type": "execute_result"
    }
   ],
   "source": [
    "A[1,:]\n",
    "#accessing whole second row"
   ]
  },
  {
   "cell_type": "code",
   "execution_count": 75,
   "metadata": {},
   "outputs": [
    {
     "data": {
      "text/plain": [
       "array([ 3., 10.,  6.,  2.,  7.])"
      ]
     },
     "execution_count": 75,
     "metadata": {},
     "output_type": "execute_result"
    }
   ],
   "source": [
    "#accessing the entire second column\n",
    "A[:,1]"
   ]
  },
  {
   "cell_type": "code",
   "execution_count": 77,
   "metadata": {},
   "outputs": [
    {
     "data": {
      "text/plain": [
       "array([[7., 0.],\n",
       "       [3., 0.]])"
      ]
     },
     "execution_count": 77,
     "metadata": {},
     "output_type": "execute_result"
    }
   ],
   "source": [
    "#accessing submatrix\n",
    "A[1:3, 2:4]"
   ]
  },
  {
   "cell_type": "code",
   "execution_count": 78,
   "metadata": {},
   "outputs": [
    {
     "data": {
      "text/plain": [
       "array([[ 4.,  9.,  0., 10.,  3.],\n",
       "       [ 3., 10.,  6.,  2.,  7.],\n",
       "       [ 4.,  7.,  3.,  7.,  7.],\n",
       "       [ 7.,  0.,  0.,  6.,  7.]])"
      ]
     },
     "execution_count": 78,
     "metadata": {},
     "output_type": "execute_result"
    }
   ],
   "source": [
    "#transpose\n",
    "A.T"
   ]
  },
  {
   "cell_type": "code",
   "execution_count": 79,
   "metadata": {},
   "outputs": [],
   "source": [
    "import numpy.linalg as la"
   ]
  },
  {
   "cell_type": "code",
   "execution_count": 80,
   "metadata": {},
   "outputs": [
    {
     "data": {
      "text/plain": [
       "array([[-0.0702557 ,  1.59415257, -0.30731603],\n",
       "       [ 4.83522676, -2.0579774 , -0.90674554],\n",
       "       [-5.19937438,  0.69655611,  2.40447173]])"
      ]
     },
     "execution_count": 80,
     "metadata": {},
     "output_type": "execute_result"
    }
   ],
   "source": [
    "la.inv(np.random.rand(3,3))"
   ]
  },
  {
   "cell_type": "code",
   "execution_count": 81,
   "metadata": {},
   "outputs": [
    {
     "data": {
      "text/plain": [
       "array([[ 4.,  3.,  4.,  7.],\n",
       "       [ 9., 10.,  7.,  0.],\n",
       "       [ 0.,  6.,  3.,  0.],\n",
       "       [10.,  2.,  7.,  6.],\n",
       "       [ 3.,  7.,  7.,  7.]])"
      ]
     },
     "execution_count": 81,
     "metadata": {},
     "output_type": "execute_result"
    }
   ],
   "source": [
    "A"
   ]
  },
  {
   "cell_type": "code",
   "execution_count": 84,
   "metadata": {},
   "outputs": [],
   "source": [
    "A.sort(axis=0) #sorting columns"
   ]
  },
  {
   "cell_type": "code",
   "execution_count": 85,
   "metadata": {},
   "outputs": [
    {
     "data": {
      "text/plain": [
       "array([[ 0.,  2.,  3.,  0.],\n",
       "       [ 3.,  3.,  4.,  0.],\n",
       "       [ 4.,  6.,  7.,  6.],\n",
       "       [ 9.,  7.,  7.,  7.],\n",
       "       [10., 10.,  7.,  7.]])"
      ]
     },
     "execution_count": 85,
     "metadata": {},
     "output_type": "execute_result"
    }
   ],
   "source": [
    "A"
   ]
  },
  {
   "cell_type": "code",
   "execution_count": 86,
   "metadata": {},
   "outputs": [],
   "source": [
    "A.sort(axis=1) #sorting rows"
   ]
  },
  {
   "cell_type": "code",
   "execution_count": 87,
   "metadata": {},
   "outputs": [
    {
     "data": {
      "text/plain": [
       "array([[ 0.,  0.,  2.,  3.],\n",
       "       [ 0.,  3.,  3.,  4.],\n",
       "       [ 4.,  6.,  6.,  7.],\n",
       "       [ 7.,  7.,  7.,  9.],\n",
       "       [ 7.,  7., 10., 10.]])"
      ]
     },
     "execution_count": 87,
     "metadata": {},
     "output_type": "execute_result"
    }
   ],
   "source": [
    "A"
   ]
  },
  {
   "cell_type": "markdown",
   "metadata": {},
   "source": [
    "## Masking in Numpy"
   ]
  },
  {
   "cell_type": "code",
   "execution_count": 88,
   "metadata": {},
   "outputs": [],
   "source": [
    "A = np.arange(100)"
   ]
  },
  {
   "cell_type": "code",
   "execution_count": 89,
   "metadata": {},
   "outputs": [],
   "source": [
    "B= A[[3,5,6]]"
   ]
  },
  {
   "cell_type": "code",
   "execution_count": 90,
   "metadata": {},
   "outputs": [
    {
     "data": {
      "text/plain": [
       "array([3, 5, 6])"
      ]
     },
     "execution_count": 90,
     "metadata": {},
     "output_type": "execute_result"
    }
   ],
   "source": [
    "B"
   ]
  },
  {
   "cell_type": "code",
   "execution_count": 92,
   "metadata": {},
   "outputs": [],
   "source": [
    "B[0] = -4"
   ]
  },
  {
   "cell_type": "code",
   "execution_count": 93,
   "metadata": {},
   "outputs": [
    {
     "data": {
      "text/plain": [
       "array([-4,  5,  6])"
      ]
     },
     "execution_count": 93,
     "metadata": {},
     "output_type": "execute_result"
    }
   ],
   "source": [
    "B"
   ]
  },
  {
   "cell_type": "code",
   "execution_count": 94,
   "metadata": {},
   "outputs": [
    {
     "data": {
      "text/plain": [
       "array([ 0,  1,  2,  3,  4,  5,  6,  7,  8,  9, 10, 11, 12, 13, 14, 15, 16,\n",
       "       17, 18, 19, 20, 21, 22, 23, 24, 25, 26, 27, 28, 29, 30, 31, 32, 33,\n",
       "       34, 35, 36, 37, 38, 39, 40, 41, 42, 43, 44, 45, 46, 47, 48, 49, 50,\n",
       "       51, 52, 53, 54, 55, 56, 57, 58, 59, 60, 61, 62, 63, 64, 65, 66, 67,\n",
       "       68, 69, 70, 71, 72, 73, 74, 75, 76, 77, 78, 79, 80, 81, 82, 83, 84,\n",
       "       85, 86, 87, 88, 89, 90, 91, 92, 93, 94, 95, 96, 97, 98, 99])"
      ]
     },
     "execution_count": 94,
     "metadata": {},
     "output_type": "execute_result"
    }
   ],
   "source": [
    "A"
   ]
  },
  {
   "cell_type": "code",
   "execution_count": 95,
   "metadata": {},
   "outputs": [],
   "source": [
    "B = A[A<40]"
   ]
  },
  {
   "cell_type": "code",
   "execution_count": 97,
   "metadata": {},
   "outputs": [
    {
     "data": {
      "text/plain": [
       "array([ 0,  1,  2,  3,  4,  5,  6,  7,  8,  9, 10, 11, 12, 13, 14, 15, 16,\n",
       "       17, 18, 19, 20, 21, 22, 23, 24, 25, 26, 27, 28, 29, 30, 31, 32, 33,\n",
       "       34, 35, 36, 37, 38, 39])"
      ]
     },
     "execution_count": 97,
     "metadata": {},
     "output_type": "execute_result"
    }
   ],
   "source": [
    "B"
   ]
  },
  {
   "cell_type": "code",
   "execution_count": 98,
   "metadata": {},
   "outputs": [],
   "source": [
    "B = A[(A<40) & (A>30)]"
   ]
  },
  {
   "cell_type": "code",
   "execution_count": 99,
   "metadata": {},
   "outputs": [
    {
     "data": {
      "text/plain": [
       "array([31, 32, 33, 34, 35, 36, 37, 38, 39])"
      ]
     },
     "execution_count": 99,
     "metadata": {},
     "output_type": "execute_result"
    }
   ],
   "source": [
    "B"
   ]
  },
  {
   "cell_type": "markdown",
   "metadata": {},
   "source": [
    "## Numpy (hstack, vstack, sort)"
   ]
  },
  {
   "cell_type": "code",
   "execution_count": 102,
   "metadata": {},
   "outputs": [],
   "source": [
    "A = np.round(10*np.random.rand(2,3))"
   ]
  },
  {
   "cell_type": "code",
   "execution_count": 103,
   "metadata": {},
   "outputs": [
    {
     "data": {
      "text/plain": [
       "array([[5., 4., 6.],\n",
       "       [8., 3., 9.]])"
      ]
     },
     "execution_count": 103,
     "metadata": {},
     "output_type": "execute_result"
    }
   ],
   "source": [
    "A"
   ]
  },
  {
   "cell_type": "code",
   "execution_count": 104,
   "metadata": {},
   "outputs": [
    {
     "data": {
      "text/plain": [
       "array([[ 8.,  7.,  9.],\n",
       "       [11.,  6., 12.]])"
      ]
     },
     "execution_count": 104,
     "metadata": {},
     "output_type": "execute_result"
    }
   ],
   "source": [
    "A+3"
   ]
  },
  {
   "cell_type": "code",
   "execution_count": 105,
   "metadata": {},
   "outputs": [
    {
     "data": {
      "text/plain": [
       "array([[ 5.,  4.,  6.],\n",
       "       [ 9.,  4., 10.]])"
      ]
     },
     "execution_count": 105,
     "metadata": {},
     "output_type": "execute_result"
    }
   ],
   "source": [
    "A+np.arange(2).reshape(2,1)"
   ]
  },
  {
   "cell_type": "code",
   "execution_count": 106,
   "metadata": {},
   "outputs": [],
   "source": [
    "B = np.round(10*np.random.rand(2,2))"
   ]
  },
  {
   "cell_type": "code",
   "execution_count": 107,
   "metadata": {},
   "outputs": [
    {
     "data": {
      "text/plain": [
       "array([[ 2., 10.],\n",
       "       [ 6.,  5.]])"
      ]
     },
     "execution_count": 107,
     "metadata": {},
     "output_type": "execute_result"
    }
   ],
   "source": [
    "B"
   ]
  },
  {
   "cell_type": "code",
   "execution_count": 108,
   "metadata": {},
   "outputs": [],
   "source": [
    "C= np.hstack((A,B))"
   ]
  },
  {
   "cell_type": "code",
   "execution_count": 110,
   "metadata": {},
   "outputs": [
    {
     "data": {
      "text/plain": [
       "array([[ 5.,  4.,  6.,  2., 10.],\n",
       "       [ 8.,  3.,  9.,  6.,  5.]])"
      ]
     },
     "execution_count": 110,
     "metadata": {},
     "output_type": "execute_result"
    }
   ],
   "source": [
    "C"
   ]
  },
  {
   "cell_type": "code",
   "execution_count": 111,
   "metadata": {},
   "outputs": [],
   "source": [
    "A = np.random.permutation(np.arange(10))"
   ]
  },
  {
   "cell_type": "code",
   "execution_count": 112,
   "metadata": {},
   "outputs": [
    {
     "data": {
      "text/plain": [
       "array([7, 5, 9, 0, 4, 2, 1, 3, 6, 8])"
      ]
     },
     "execution_count": 112,
     "metadata": {},
     "output_type": "execute_result"
    }
   ],
   "source": [
    "A"
   ]
  },
  {
   "cell_type": "code",
   "execution_count": 115,
   "metadata": {},
   "outputs": [
    {
     "data": {
      "text/plain": [
       "array([0, 1, 2, 3, 4, 5, 6, 7, 8, 9])"
      ]
     },
     "execution_count": 115,
     "metadata": {},
     "output_type": "execute_result"
    }
   ],
   "source": [
    "A.sort()\n",
    "A"
   ]
  },
  {
   "cell_type": "code",
   "execution_count": 116,
   "metadata": {},
   "outputs": [
    {
     "data": {
      "text/plain": [
       "array([0, 1, 2, 3, 4, 5, 6, 7, 8, 9])"
      ]
     },
     "execution_count": 116,
     "metadata": {},
     "output_type": "execute_result"
    }
   ],
   "source": [
    "np.sort(A)"
   ]
  },
  {
   "cell_type": "code",
   "execution_count": 117,
   "metadata": {},
   "outputs": [],
   "source": [
    "A = A[::-1] #sorted in descending order"
   ]
  },
  {
   "cell_type": "markdown",
   "metadata": {},
   "source": [
    "# Numpy (speed of universal functions)"
   ]
  },
  {
   "cell_type": "code",
   "execution_count": 118,
   "metadata": {},
   "outputs": [
    {
     "name": "stdout",
     "output_type": "stream",
     "text": [
      "72.3 ms ± 698 µs per loop (mean ± std. dev. of 7 runs, 10 loops each)\n",
      "463 µs ± 21.2 µs per loop (mean ± std. dev. of 7 runs, 1000 loops each)\n"
     ]
    }
   ],
   "source": [
    "B = np.random.rand(1000000)\n",
    "%timeit sum(B)\n",
    "%timeit np.sum(B)"
   ]
  },
  {
   "cell_type": "code",
   "execution_count": 119,
   "metadata": {},
   "outputs": [],
   "source": [
    "def mySum(G):\n",
    "    s = 0\n",
    "    for x in G:\n",
    "        s+= x\n",
    "    return x"
   ]
  },
  {
   "cell_type": "code",
   "execution_count": 120,
   "metadata": {},
   "outputs": [
    {
     "name": "stdout",
     "output_type": "stream",
     "text": [
      "96.7 ms ± 4.33 ms per loop (mean ± std. dev. of 7 runs, 10 loops each)\n"
     ]
    }
   ],
   "source": [
    "%timeit mySum(B)"
   ]
  },
  {
   "cell_type": "markdown",
   "metadata": {},
   "source": [
    "TLDR: numpy built in functions are faster"
   ]
  },
  {
   "cell_type": "code",
   "execution_count": null,
   "metadata": {},
   "outputs": [],
   "source": []
  }
 ],
 "metadata": {
  "kernelspec": {
   "display_name": "Python 3",
   "language": "python",
   "name": "python3"
  },
  "language_info": {
   "codemirror_mode": {
    "name": "ipython",
    "version": 3
   },
   "file_extension": ".py",
   "mimetype": "text/x-python",
   "name": "python",
   "nbconvert_exporter": "python",
   "pygments_lexer": "ipython3",
   "version": "3.8.8"
  }
 },
 "nbformat": 4,
 "nbformat_minor": 4
}
