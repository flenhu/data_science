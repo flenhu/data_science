{
 "cells": [
  {
   "cell_type": "markdown",
   "id": "2e140fce",
   "metadata": {},
   "source": [
    "# Lists"
   ]
  },
  {
   "cell_type": "markdown",
   "id": "b3e6271a",
   "metadata": {},
   "source": [
    "List characteristics\n",
    "<ul>\n",
    "    <li>ordered</li>\n",
    "    <li>mutable</li>\n",
    "    <li>duplicates are okay</li>\n",
    "<ul>"
   ]
  },
  {
   "cell_type": "code",
   "execution_count": 24,
   "id": "4d50b506",
   "metadata": {},
   "outputs": [],
   "source": [
    "L = [1,3,5.3, \"bob\", 3]"
   ]
  },
  {
   "cell_type": "markdown",
   "id": "fa82b362",
   "metadata": {},
   "source": [
    "# Tuple"
   ]
  },
  {
   "cell_type": "markdown",
   "id": "41025083",
   "metadata": {},
   "source": [
    "Tuple characteristics\n",
    "<ul>\n",
    "    <li>ordered</li>\n",
    "    <li>unmutable</li>\n",
    "    <li>duplicates are okay</li>\n",
    "<ul>"
   ]
  },
  {
   "cell_type": "code",
   "execution_count": 12,
   "id": "157990b2",
   "metadata": {},
   "outputs": [],
   "source": [
    "T = (1,3,5.3, \"bob\", 3)"
   ]
  },
  {
   "cell_type": "markdown",
   "id": "8e114e4a",
   "metadata": {},
   "source": [
    "# Set"
   ]
  },
  {
   "cell_type": "markdown",
   "id": "03169956",
   "metadata": {},
   "source": [
    "Set characteristics\n",
    "<ul>\n",
    "    <li>unordered</li>\n",
    "    <li>addable/removable</li>\n",
    "    <li>no duplicates</li>\n",
    "<ul>"
   ]
  },
  {
   "cell_type": "code",
   "execution_count": 22,
   "id": "4941bac1",
   "metadata": {},
   "outputs": [],
   "source": [
    "S = {1,3,5.3, \"bob\", 3}"
   ]
  },
  {
   "cell_type": "code",
   "execution_count": 23,
   "id": "136905f5",
   "metadata": {},
   "outputs": [
    {
     "data": {
      "text/plain": [
       "{1, 3, 5.3, 'bob'}"
      ]
     },
     "execution_count": 23,
     "metadata": {},
     "output_type": "execute_result"
    }
   ],
   "source": [
    "S"
   ]
  },
  {
   "cell_type": "markdown",
   "id": "3c9e0768",
   "metadata": {},
   "source": [
    "# Dictionary"
   ]
  },
  {
   "cell_type": "markdown",
   "id": "eb2cd072",
   "metadata": {},
   "source": [
    "Dictionary characteristics\n",
    "<ul>\n",
    "    <li>unordered</li>\n",
    "    <li>addable/removable</li>\n",
    "    <li>no duplicates</li>\n",
    "<ul>"
   ]
  },
  {
   "cell_type": "code",
   "execution_count": 19,
   "id": "4ed0d907",
   "metadata": {},
   "outputs": [],
   "source": [
    "D = {23: \"twothree\", 'B':43, 'C':\"CCD\"}"
   ]
  },
  {
   "cell_type": "code",
   "execution_count": 20,
   "id": "dd6ed2d5",
   "metadata": {},
   "outputs": [
    {
     "name": "stdout",
     "output_type": "stream",
     "text": [
      "The type of L is <class 'list'>\n",
      "The type of T is <class 'tuple'>\n",
      "The type of S is <class 'set'>\n",
      "The type of D is <class 'dict'>\n"
     ]
    }
   ],
   "source": [
    "print(\"The type of L is\", type(L))\n",
    "print(\"The type of T is\", type(T))\n",
    "print(\"The type of S is\", type(S))\n",
    "print(\"The type of D is\", type(D))"
   ]
  },
  {
   "cell_type": "markdown",
   "id": "ed2faa72",
   "metadata": {},
   "source": [
    "### Printing an element inside the data struct"
   ]
  },
  {
   "cell_type": "code",
   "execution_count": 21,
   "id": "6306ed8e",
   "metadata": {},
   "outputs": [
    {
     "name": "stdout",
     "output_type": "stream",
     "text": [
      "3\n",
      "3\n",
      "True\n",
      "twothree\n"
     ]
    }
   ],
   "source": [
    "print(L[1])\n",
    "print(T[1])\n",
    "print(3 in S)\n",
    "print(D[23])"
   ]
  },
  {
   "cell_type": "markdown",
   "id": "e1d8292a",
   "metadata": {},
   "source": [
    "# List indexing"
   ]
  },
  {
   "cell_type": "code",
   "execution_count": 27,
   "id": "13017ae1",
   "metadata": {},
   "outputs": [
    {
     "data": {
      "text/plain": [
       "[3, 5.3]"
      ]
     },
     "execution_count": 27,
     "metadata": {},
     "output_type": "execute_result"
    }
   ],
   "source": [
    "L[1:3]"
   ]
  },
  {
   "cell_type": "markdown",
   "id": "dd146152",
   "metadata": {},
   "source": [
    "Returns the 2nd and 3rd index"
   ]
  },
  {
   "cell_type": "code",
   "execution_count": 28,
   "id": "88288af4",
   "metadata": {},
   "outputs": [
    {
     "data": {
      "text/plain": [
       "[3, 'bob', 5.3, 3, 1]"
      ]
     },
     "execution_count": 28,
     "metadata": {},
     "output_type": "execute_result"
    }
   ],
   "source": [
    "L[::-1]"
   ]
  },
  {
   "cell_type": "markdown",
   "id": "bc1bc084",
   "metadata": {},
   "source": [
    "reverses the list"
   ]
  },
  {
   "cell_type": "markdown",
   "id": "bb01d16d",
   "metadata": {},
   "source": [
    "# Tuple Indexing"
   ]
  },
  {
   "cell_type": "code",
   "execution_count": 34,
   "id": "457a6a7e",
   "metadata": {},
   "outputs": [
    {
     "data": {
      "text/plain": [
       "(1, 3, 5.3)"
      ]
     },
     "execution_count": 34,
     "metadata": {},
     "output_type": "execute_result"
    }
   ],
   "source": [
    "T[:3]"
   ]
  },
  {
   "cell_type": "markdown",
   "id": "604d267d",
   "metadata": {},
   "source": [
    "- returns up to the 3rd element"
   ]
  },
  {
   "cell_type": "markdown",
   "id": "769091bb",
   "metadata": {},
   "source": [
    "- indexing is basically the same for lists and tuples besides lists being mutable"
   ]
  },
  {
   "cell_type": "markdown",
   "id": "7914677a",
   "metadata": {},
   "source": [
    "## Mutating/Changing Lists"
   ]
  },
  {
   "cell_type": "code",
   "execution_count": 35,
   "id": "a9dc21a1",
   "metadata": {},
   "outputs": [],
   "source": [
    "L = L + [\"how\", \"are\", \"you\"]"
   ]
  },
  {
   "cell_type": "code",
   "execution_count": 36,
   "id": "901becc7",
   "metadata": {},
   "outputs": [
    {
     "data": {
      "text/plain": [
       "[1, 3, 5.3, 'bob', 3, 'how', 'are', 'you']"
      ]
     },
     "execution_count": 36,
     "metadata": {},
     "output_type": "execute_result"
    }
   ],
   "source": [
    "L"
   ]
  },
  {
   "cell_type": "code",
   "execution_count": 38,
   "id": "933376e7",
   "metadata": {},
   "outputs": [],
   "source": [
    "L.append(6)\n",
    "L.append(23)"
   ]
  },
  {
   "cell_type": "code",
   "execution_count": 55,
   "id": "1c782fb5",
   "metadata": {},
   "outputs": [
    {
     "data": {
      "text/plain": [
       "[1, 3, 5.3, 'bob', 3, 'how', 'are', 'you', 6, 6, 23]"
      ]
     },
     "execution_count": 55,
     "metadata": {},
     "output_type": "execute_result"
    }
   ],
   "source": [
    "L"
   ]
  },
  {
   "cell_type": "markdown",
   "id": "d0d91746",
   "metadata": {},
   "source": [
    "Deleting from a List"
   ]
  },
  {
   "cell_type": "code",
   "execution_count": 56,
   "id": "75921509",
   "metadata": {},
   "outputs": [],
   "source": [
    "del L[2]"
   ]
  },
  {
   "cell_type": "code",
   "execution_count": 57,
   "id": "4bf6dca6",
   "metadata": {},
   "outputs": [
    {
     "data": {
      "text/plain": [
       "[1, 3, 'bob', 3, 'how', 'are', 'you', 6, 6, 23]"
      ]
     },
     "execution_count": 57,
     "metadata": {},
     "output_type": "execute_result"
    }
   ],
   "source": [
    "L"
   ]
  },
  {
   "cell_type": "markdown",
   "id": "cd6896ae",
   "metadata": {},
   "source": [
    "## Making new Tuples"
   ]
  },
  {
   "cell_type": "code",
   "execution_count": 43,
   "id": "958b559e",
   "metadata": {},
   "outputs": [
    {
     "data": {
      "text/plain": [
       "(1, 3, 5.3, 'bob', 3)"
      ]
     },
     "execution_count": 43,
     "metadata": {},
     "output_type": "execute_result"
    }
   ],
   "source": [
    "T"
   ]
  },
  {
   "cell_type": "code",
   "execution_count": 44,
   "id": "fe560748",
   "metadata": {},
   "outputs": [],
   "source": [
    "T2 = ('a', 'b', 4)"
   ]
  },
  {
   "cell_type": "code",
   "execution_count": 45,
   "id": "220fd2f3",
   "metadata": {},
   "outputs": [],
   "source": [
    "T3 = T+T2"
   ]
  },
  {
   "cell_type": "code",
   "execution_count": 46,
   "id": "c69e8c5c",
   "metadata": {},
   "outputs": [
    {
     "data": {
      "text/plain": [
       "(1, 3, 5.3, 'bob', 3, 'a', 'b', 4)"
      ]
     },
     "execution_count": 46,
     "metadata": {},
     "output_type": "execute_result"
    }
   ],
   "source": [
    "T3"
   ]
  },
  {
   "cell_type": "markdown",
   "id": "3a3dab09",
   "metadata": {},
   "source": [
    "## Adding to sets"
   ]
  },
  {
   "cell_type": "code",
   "execution_count": 47,
   "id": "5b88655d",
   "metadata": {},
   "outputs": [
    {
     "data": {
      "text/plain": [
       "{1, 3, 5.3, 'bob'}"
      ]
     },
     "execution_count": 47,
     "metadata": {},
     "output_type": "execute_result"
    }
   ],
   "source": [
    "S"
   ]
  },
  {
   "cell_type": "code",
   "execution_count": 48,
   "id": "9262fed0",
   "metadata": {},
   "outputs": [],
   "source": [
    "S.add(56)"
   ]
  },
  {
   "cell_type": "code",
   "execution_count": 49,
   "id": "8a48c497",
   "metadata": {},
   "outputs": [
    {
     "data": {
      "text/plain": [
       "{1, 3, 5.3, 56, 'bob'}"
      ]
     },
     "execution_count": 49,
     "metadata": {},
     "output_type": "execute_result"
    }
   ],
   "source": [
    "S"
   ]
  },
  {
   "cell_type": "code",
   "execution_count": 50,
   "id": "009976ec",
   "metadata": {},
   "outputs": [],
   "source": [
    "S.update({23, 'game', 'name'})"
   ]
  },
  {
   "cell_type": "code",
   "execution_count": 51,
   "id": "9346cb41",
   "metadata": {},
   "outputs": [
    {
     "data": {
      "text/plain": [
       "{1, 23, 3, 5.3, 56, 'bob', 'game', 'name'}"
      ]
     },
     "execution_count": 51,
     "metadata": {},
     "output_type": "execute_result"
    }
   ],
   "source": [
    "S"
   ]
  },
  {
   "cell_type": "markdown",
   "id": "08ea6664",
   "metadata": {},
   "source": [
    "## adding to a dictionary"
   ]
  },
  {
   "cell_type": "code",
   "execution_count": 52,
   "id": "84ac9104",
   "metadata": {},
   "outputs": [
    {
     "data": {
      "text/plain": [
       "{23: 'twothree', 'B': 43, 'C': 'CCD'}"
      ]
     },
     "execution_count": 52,
     "metadata": {},
     "output_type": "execute_result"
    }
   ],
   "source": [
    "D"
   ]
  },
  {
   "cell_type": "code",
   "execution_count": 53,
   "id": "90f09010",
   "metadata": {},
   "outputs": [],
   "source": [
    "D['newKey'] = \"newValue\""
   ]
  },
  {
   "cell_type": "code",
   "execution_count": 54,
   "id": "a4a498f9",
   "metadata": {},
   "outputs": [
    {
     "data": {
      "text/plain": [
       "{23: 'twothree', 'B': 43, 'C': 'CCD', 'newKey': 'newValue'}"
      ]
     },
     "execution_count": 54,
     "metadata": {},
     "output_type": "execute_result"
    }
   ],
   "source": [
    "D"
   ]
  },
  {
   "cell_type": "markdown",
   "id": "9bdd4aa3",
   "metadata": {},
   "source": [
    "Adding two dictionaries together"
   ]
  },
  {
   "cell_type": "code",
   "execution_count": 58,
   "id": "0103b823",
   "metadata": {},
   "outputs": [],
   "source": [
    "D2= {'Steph': 30, 'Klay': 11}"
   ]
  },
  {
   "cell_type": "code",
   "execution_count": 63,
   "id": "2b04df63",
   "metadata": {},
   "outputs": [],
   "source": [
    "D.update(D2)"
   ]
  },
  {
   "cell_type": "code",
   "execution_count": 64,
   "id": "2f04234f",
   "metadata": {},
   "outputs": [
    {
     "data": {
      "text/plain": [
       "{23: 'twothree',\n",
       " 'B': 43,\n",
       " 'C': 'CCD',\n",
       " 'newKey': 'newValue',\n",
       " 'Steph': 30,\n",
       " 'Klay': 11}"
      ]
     },
     "execution_count": 64,
     "metadata": {},
     "output_type": "execute_result"
    }
   ],
   "source": [
    "D"
   ]
  },
  {
   "cell_type": "markdown",
   "id": "c56a5754",
   "metadata": {},
   "source": [
    "# Copying "
   ]
  },
  {
   "cell_type": "code",
   "execution_count": 66,
   "id": "a4d382c0",
   "metadata": {},
   "outputs": [],
   "source": [
    "L2 = L"
   ]
  },
  {
   "cell_type": "code",
   "execution_count": 67,
   "id": "76a7eccc",
   "metadata": {},
   "outputs": [
    {
     "data": {
      "text/plain": [
       "[1, 3, 'bob', 3, 'how', 'are', 'you', 6, 6, 23]"
      ]
     },
     "execution_count": 67,
     "metadata": {},
     "output_type": "execute_result"
    }
   ],
   "source": [
    "L2"
   ]
  },
  {
   "cell_type": "code",
   "execution_count": 69,
   "id": "7bbbf6fb",
   "metadata": {},
   "outputs": [],
   "source": [
    "L2[1] = 'joe'"
   ]
  },
  {
   "cell_type": "code",
   "execution_count": 71,
   "id": "719dece2",
   "metadata": {},
   "outputs": [
    {
     "data": {
      "text/plain": [
       "[1, 'joe', 'bob', 3, 'how', 'are', 'you', 6, 6, 23]"
      ]
     },
     "execution_count": 71,
     "metadata": {},
     "output_type": "execute_result"
    }
   ],
   "source": [
    "L2"
   ]
  },
  {
   "cell_type": "code",
   "execution_count": 72,
   "id": "6700d698",
   "metadata": {},
   "outputs": [
    {
     "data": {
      "text/plain": [
       "[1, 'joe', 'bob', 3, 'how', 'are', 'you', 6, 6, 23]"
      ]
     },
     "execution_count": 72,
     "metadata": {},
     "output_type": "execute_result"
    }
   ],
   "source": [
    "L"
   ]
  },
  {
   "cell_type": "markdown",
   "id": "04d02e49",
   "metadata": {},
   "source": [
    "If we set a list to be equal to another list, if we mutate one list, the orignial will also be changed. Thus we have to use the copy() method to store the memory of the new list separately"
   ]
  },
  {
   "cell_type": "code",
   "execution_count": 73,
   "id": "fcaad7a6",
   "metadata": {},
   "outputs": [],
   "source": [
    "L3 = L.copy()"
   ]
  },
  {
   "cell_type": "code",
   "execution_count": 74,
   "id": "3a1c847d",
   "metadata": {},
   "outputs": [
    {
     "data": {
      "text/plain": [
       "[1, 'joe', 'bob', 3, 'how', 'are', 'you', 6, 6, 23]"
      ]
     },
     "execution_count": 74,
     "metadata": {},
     "output_type": "execute_result"
    }
   ],
   "source": [
    "L3"
   ]
  },
  {
   "cell_type": "code",
   "execution_count": 75,
   "id": "a9a7c7d0",
   "metadata": {},
   "outputs": [
    {
     "data": {
      "text/plain": [
       "[1, 'joe', 'bob', 3, 'how', 'are', 'you', 6, 6, 23]"
      ]
     },
     "execution_count": 75,
     "metadata": {},
     "output_type": "execute_result"
    }
   ],
   "source": [
    "L"
   ]
  },
  {
   "cell_type": "code",
   "execution_count": 76,
   "id": "40679ada",
   "metadata": {},
   "outputs": [],
   "source": [
    "L3[3] = 'billy'"
   ]
  },
  {
   "cell_type": "code",
   "execution_count": 79,
   "id": "d173fca7",
   "metadata": {},
   "outputs": [
    {
     "data": {
      "text/plain": [
       "[1, 'joe', 'bob', 'billy', 'how', 'are', 'you', 6, 6, 23]"
      ]
     },
     "execution_count": 79,
     "metadata": {},
     "output_type": "execute_result"
    }
   ],
   "source": [
    "L3"
   ]
  },
  {
   "cell_type": "code",
   "execution_count": 80,
   "id": "68e17ac8",
   "metadata": {},
   "outputs": [
    {
     "data": {
      "text/plain": [
       "[1, 'joe', 'bob', 3, 'how', 'are', 'you', 6, 6, 23]"
      ]
     },
     "execution_count": 80,
     "metadata": {},
     "output_type": "execute_result"
    }
   ],
   "source": [
    "L"
   ]
  },
  {
   "cell_type": "markdown",
   "id": "cec7cda6",
   "metadata": {},
   "source": [
    "*This concept applies to Lists, Sets, and Dictionaries*"
   ]
  },
  {
   "cell_type": "code",
   "execution_count": 81,
   "id": "c1414f3f",
   "metadata": {},
   "outputs": [],
   "source": [
    "L4 = L[1:4]"
   ]
  },
  {
   "cell_type": "code",
   "execution_count": 84,
   "id": "f5adbddc",
   "metadata": {},
   "outputs": [],
   "source": [
    "L4[2] = 'Kevin'"
   ]
  },
  {
   "cell_type": "code",
   "execution_count": 85,
   "id": "e49ab1bf",
   "metadata": {},
   "outputs": [
    {
     "data": {
      "text/plain": [
       "[1, 'joe', 'bob', 3, 'how', 'are', 'you', 6, 6, 23]"
      ]
     },
     "execution_count": 85,
     "metadata": {},
     "output_type": "execute_result"
    }
   ],
   "source": [
    "L"
   ]
  },
  {
   "cell_type": "code",
   "execution_count": 86,
   "id": "0592710d",
   "metadata": {},
   "outputs": [
    {
     "data": {
      "text/plain": [
       "['joe', 'bob', 'Kevin']"
      ]
     },
     "execution_count": 86,
     "metadata": {},
     "output_type": "execute_result"
    }
   ],
   "source": [
    "L4"
   ]
  },
  {
   "cell_type": "markdown",
   "id": "fb171268",
   "metadata": {},
   "source": [
    "Slicing a list makes a completely new list and does not reference the orignal"
   ]
  },
  {
   "cell_type": "markdown",
   "id": "ef8d846d",
   "metadata": {},
   "source": [
    "# List Methods"
   ]
  },
  {
   "cell_type": "code",
   "execution_count": 87,
   "id": "69964687",
   "metadata": {},
   "outputs": [
    {
     "data": {
      "text/plain": [
       "[1, 'joe', 'bob', 3, 'how', 'are', 'you', 6, 6, 23]"
      ]
     },
     "execution_count": 87,
     "metadata": {},
     "output_type": "execute_result"
    }
   ],
   "source": [
    "L"
   ]
  },
  {
   "cell_type": "code",
   "execution_count": 88,
   "id": "63d5faa9",
   "metadata": {},
   "outputs": [],
   "source": [
    "L.append(L2)"
   ]
  },
  {
   "cell_type": "code",
   "execution_count": 89,
   "id": "c7548e61",
   "metadata": {},
   "outputs": [
    {
     "data": {
      "text/plain": [
       "[1, 'joe', 'bob', 3, 'how', 'are', 'you', 6, 6, 23, [...]]"
      ]
     },
     "execution_count": 89,
     "metadata": {},
     "output_type": "execute_result"
    }
   ],
   "source": [
    "L"
   ]
  },
  {
   "cell_type": "code",
   "execution_count": 91,
   "id": "23f793db",
   "metadata": {},
   "outputs": [
    {
     "data": {
      "text/plain": [
       "[1, 'joe', 'bob', 3, 'how', 'are', 'you', 6, 6, 23]"
      ]
     },
     "execution_count": 91,
     "metadata": {},
     "output_type": "execute_result"
    }
   ],
   "source": [
    "L.pop()"
   ]
  },
  {
   "cell_type": "code",
   "execution_count": 92,
   "id": "55633ca1",
   "metadata": {},
   "outputs": [
    {
     "data": {
      "text/plain": [
       "[1, 'joe', 'bob', 3, 'how', 'are', 'you', 6, 6, 23]"
      ]
     },
     "execution_count": 92,
     "metadata": {},
     "output_type": "execute_result"
    }
   ],
   "source": [
    "L"
   ]
  },
  {
   "cell_type": "code",
   "execution_count": 93,
   "id": "6e58f3e3",
   "metadata": {},
   "outputs": [],
   "source": [
    "L.reverse()"
   ]
  },
  {
   "cell_type": "code",
   "execution_count": 94,
   "id": "9eb8a4e0",
   "metadata": {},
   "outputs": [
    {
     "data": {
      "text/plain": [
       "[23, 6, 6, 'you', 'are', 'how', 3, 'bob', 'joe', 1]"
      ]
     },
     "execution_count": 94,
     "metadata": {},
     "output_type": "execute_result"
    }
   ],
   "source": [
    "L"
   ]
  },
  {
   "cell_type": "code",
   "execution_count": 95,
   "id": "6cf120d3",
   "metadata": {},
   "outputs": [],
   "source": [
    "L2.clear()"
   ]
  },
  {
   "cell_type": "markdown",
   "id": "46bdcf2c",
   "metadata": {},
   "source": [
    "Clears the entire List"
   ]
  },
  {
   "cell_type": "code",
   "execution_count": 97,
   "id": "7c967b8f",
   "metadata": {},
   "outputs": [
    {
     "data": {
      "text/plain": [
       "[]"
      ]
     },
     "execution_count": 97,
     "metadata": {},
     "output_type": "execute_result"
    }
   ],
   "source": [
    "L2"
   ]
  },
  {
   "cell_type": "code",
   "execution_count": 98,
   "id": "c002b9fb",
   "metadata": {},
   "outputs": [],
   "source": [
    "D2.clear()"
   ]
  },
  {
   "cell_type": "code",
   "execution_count": 99,
   "id": "f623256f",
   "metadata": {},
   "outputs": [],
   "source": [
    "D2 = {'A': L, 'B': T, 'C': S, 'D': D}"
   ]
  },
  {
   "cell_type": "code",
   "execution_count": 100,
   "id": "989eb483",
   "metadata": {},
   "outputs": [
    {
     "data": {
      "text/plain": [
       "{'A': [],\n",
       " 'B': (1, 3, 5.3, 'bob', 3),\n",
       " 'C': {1, 23, 3, 5.3, 56, 'bob', 'game', 'name'},\n",
       " 'D': {23: 'twothree',\n",
       "  'B': 43,\n",
       "  'C': 'CCD',\n",
       "  'newKey': 'newValue',\n",
       "  'Steph': 30,\n",
       "  'Klay': 11}}"
      ]
     },
     "execution_count": 100,
     "metadata": {},
     "output_type": "execute_result"
    }
   ],
   "source": [
    "D2"
   ]
  },
  {
   "cell_type": "code",
   "execution_count": null,
   "id": "dd51e3d2",
   "metadata": {},
   "outputs": [],
   "source": []
  }
 ],
 "metadata": {
  "kernelspec": {
   "display_name": "Python 3",
   "language": "python",
   "name": "python3"
  },
  "language_info": {
   "codemirror_mode": {
    "name": "ipython",
    "version": 3
   },
   "file_extension": ".py",
   "mimetype": "text/x-python",
   "name": "python",
   "nbconvert_exporter": "python",
   "pygments_lexer": "ipython3",
   "version": "3.8.8"
  }
 },
 "nbformat": 4,
 "nbformat_minor": 5
}
